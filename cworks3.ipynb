{
 "cells": [
  {
   "cell_type": "code",
   "execution_count": 1,
   "metadata": {
    "ExecuteTime": {
     "end_time": "2018-03-05T21:53:50.361255Z",
     "start_time": "2018-03-05T21:53:47.817371Z"
    },
    "code_folding": []
   },
   "outputs": [
    {
     "name": "stderr",
     "output_type": "stream",
     "text": [
      "/Library/Frameworks/Python.framework/Versions/3.6/lib/python3.6/site-packages/h5py/__init__.py:36: FutureWarning: Conversion of the second argument of issubdtype from `float` to `np.floating` is deprecated. In future, it will be treated as `np.float64 == np.dtype(float).type`.\n",
      "  from ._conv import register_converters as _register_converters\n",
      "Using TensorFlow backend.\n"
     ]
    }
   ],
   "source": [
    "#!/usr/bin/env python3\n",
    "# -*- coding: utf-8 -*-\n",
    "\"\"\"\n",
    "Created on Tue Feb 20 15:10:00 2018\n",
    "\n",
    "@author: Yacalis\n",
    "\"\"\"\n",
    "\n",
    "import os\n",
    "import json\n",
    "import numpy as np\n",
    "from sklearn.model_selection import train_test_split\n",
    "from Callbacks import Callbacks\n",
    "from Config import Config\n",
    "from DataLoader import DataLoader\n",
    "from folder_defs import get_logdir, get_data_dir, get_image_dir\n",
    "from train_model import train_model\n",
    "from build_model import build_model\n",
    "from save_model import save_model\n",
    "from keras.models import load_model"
   ]
  },
  {
   "cell_type": "code",
   "execution_count": 2,
   "metadata": {
    "ExecuteTime": {
     "end_time": "2018-03-05T21:53:50.370634Z",
     "start_time": "2018-03-05T21:53:50.364227Z"
    }
   },
   "outputs": [
    {
     "name": "stdout",
     "output_type": "stream",
     "text": [
      "Beginning program\n"
     ]
    }
   ],
   "source": [
    "print('Beginning program')"
   ]
  },
  {
   "cell_type": "code",
   "execution_count": 3,
   "metadata": {
    "ExecuteTime": {
     "end_time": "2018-03-05T21:53:50.392833Z",
     "start_time": "2018-03-05T21:53:50.374148Z"
    },
    "code_folding": [
     0
    ]
   },
   "outputs": [
    {
     "name": "stdout",
     "output_type": "stream",
     "text": [
      "unparsed config options: ['-f', '/Users/Yacalis/Library/Jupyter/runtime/kernel-344a7e9b-f5a2-4273-baf9-5ab4ce5ffc0a.json']\n",
      "change lr: False\n",
      "change bs: False\n",
      "max epochs: 10\n",
      "[!] Whoops: config.change_bs and config.change_lr should be different bool values, but they are both False -- please set one and only one of them to True\n"
     ]
    }
   ],
   "source": [
    "# get config\n",
    "config = Config().config\n",
    "print('change lr:', config.change_lr)\n",
    "print('change bs:', config.change_bs)\n",
    "print('max epochs:', config.epochs)\n",
    "if config.change_bs == config.change_lr:\n",
    "    print(f'[!] Whoops: config.change_bs and config.change_lr should be '\n",
    "          f'different bool values, but they are both {config.change_bs} '\n",
    "          f'-- please set one and only one of them to True')"
   ]
  },
  {
   "cell_type": "code",
   "execution_count": 4,
   "metadata": {
    "ExecuteTime": {
     "end_time": "2018-03-05T21:53:50.411922Z",
     "start_time": "2018-03-05T21:53:50.397175Z"
    },
    "code_folding": [
     0
    ]
   },
   "outputs": [],
   "source": [
    "# get constants\n",
    "max_epochs = config.epochs\n",
    "batch_size = config.batch_size\n",
    "batch_size_increase_multiplier = 2\n",
    "model_iter = 0\n",
    "epoch_iter = 1"
   ]
  },
  {
   "cell_type": "code",
   "execution_count": 5,
   "metadata": {
    "ExecuteTime": {
     "end_time": "2018-03-05T21:53:50.423750Z",
     "start_time": "2018-03-05T21:53:50.416552Z"
    }
   },
   "outputs": [],
   "source": [
    "# CHANGING CONSTANTS FOR TESTING\n",
    "config.change_lr = False\n",
    "config.change_bs = True"
   ]
  },
  {
   "cell_type": "code",
   "execution_count": 6,
   "metadata": {
    "ExecuteTime": {
     "end_time": "2018-03-05T21:53:50.452883Z",
     "start_time": "2018-03-05T21:53:50.429177Z"
    },
    "code_folding": [
     0
    ]
   },
   "outputs": [
    {
     "name": "stdout",
     "output_type": "stream",
     "text": [
      "log dir: /Users/Yacalis/Projects/TensorFlow/cs274c-data/logs/0305_135350-changelr_False-changebs_True-batch_var\n",
      "data dir: /Users/Yacalis/Projects/TensorFlow/cs274c-data/\n",
      "image dir: /Users/Yacalis/Projects/TensorFlow/cs274c-data/Pictures/test/\n"
     ]
    }
   ],
   "source": [
    "# get directories\n",
    "log_dir = get_logdir(config)\n",
    "data_dir = get_data_dir()\n",
    "image_dir = get_image_dir()\n",
    "print('log dir:', log_dir)\n",
    "print('data dir:', data_dir)\n",
    "print('image dir:', image_dir)"
   ]
  },
  {
   "cell_type": "code",
   "execution_count": 7,
   "metadata": {
    "ExecuteTime": {
     "end_time": "2018-03-05T21:53:51.350317Z",
     "start_time": "2018-03-05T21:53:50.456903Z"
    },
    "code_folding": [
     0
    ]
   },
   "outputs": [
    {
     "name": "stdout",
     "output_type": "stream",
     "text": [
      "callbacks:\n",
      "\t <keras.callbacks.TensorBoard object at 0x11fcfaa20>\n",
      "\t <keras.callbacks.ModelCheckpoint object at 0x11fcfa9e8>\n",
      "\t <keras.callbacks.History object at 0x11fcfa860>\n",
      "\t <keras.callbacks.EarlyStopping object at 0x11fcfaac8>\n"
     ]
    }
   ],
   "source": [
    "# get callbacks\n",
    "callbacks = Callbacks(config, log_dir).callbacks\n",
    "print('callbacks:')\n",
    "for callback in callbacks:\n",
    "    print('\\t', callback)"
   ]
  },
  {
   "cell_type": "code",
   "execution_count": 8,
   "metadata": {
    "ExecuteTime": {
     "end_time": "2018-03-05T21:54:18.466653Z",
     "start_time": "2018-03-05T21:53:51.353896Z"
    },
    "code_folding": [
     0
    ]
   },
   "outputs": [
    {
     "name": "stdout",
     "output_type": "stream",
     "text": [
      "Loading data...\n",
      "data file:  /Users/Yacalis/Projects/TensorFlow/cs274c-data/imdb.mat\n",
      "number of records from data file:  460723\n",
      "image dir:  /Users/Yacalis/Projects/TensorFlow/cs274c-data/Pictures/test/\n",
      "\tsub dirs:\n",
      "\t\t 00\n",
      "shape of x_data:  (560, 228, 228, 3)\n"
     ]
    }
   ],
   "source": [
    "# get data\n",
    "print('Loading data...')\n",
    "dataloader = DataLoader(data_dir=data_dir, image_dir=image_dir)\n",
    "x_data, y_data = dataloader.retrieve_data()"
   ]
  },
  {
   "cell_type": "code",
   "execution_count": 9,
   "metadata": {
    "ExecuteTime": {
     "end_time": "2018-03-05T21:54:18.480954Z",
     "start_time": "2018-03-05T21:54:18.470548Z"
    },
    "code_folding": [
     0
    ]
   },
   "outputs": [
    {
     "name": "stdout",
     "output_type": "stream",
     "text": [
      "input dim: (228, 228, 3)\n",
      "len of data: 560\n"
     ]
    }
   ],
   "source": [
    "# get input dim\n",
    "input_dim = x_data[0].shape\n",
    "print('input dim:', input_dim)\n",
    "print('len of data:', x_data.shape[0])"
   ]
  },
  {
   "cell_type": "code",
   "execution_count": 10,
   "metadata": {
    "ExecuteTime": {
     "end_time": "2018-03-05T21:54:18.553967Z",
     "start_time": "2018-03-05T21:54:18.485245Z"
    },
    "code_folding": [
     0
    ]
   },
   "outputs": [
    {
     "name": "stdout",
     "output_type": "stream",
     "text": [
      "Num training examples (excludes test and val): 358\n"
     ]
    }
   ],
   "source": [
    "# split data into training and test sets - shuffles by default\n",
    "x_train, x_test, y_train, y_test = train_test_split(\n",
    "    x_data, y_data, test_size=config.test_split)\n",
    "num_train = int(x_train.shape[0] * (1 - config.val_split))\n",
    "print(f'Num training examples (excludes test and val): {num_train}')"
   ]
  },
  {
   "cell_type": "code",
   "execution_count": 11,
   "metadata": {
    "ExecuteTime": {
     "end_time": "2018-03-05T21:54:19.774509Z",
     "start_time": "2018-03-05T21:54:18.557046Z"
    },
    "code_folding": [
     0
    ]
   },
   "outputs": [
    {
     "name": "stdout",
     "output_type": "stream",
     "text": [
      "Building model...\n",
      "Finished building model\n",
      "Compiling model...\n",
      "_________________________________________________________________\n",
      "Layer (type)                 Output Shape              Param #   \n",
      "=================================================================\n",
      "conv2d_1 (Conv2D)            (None, 56, 56, 96)        14208     \n",
      "_________________________________________________________________\n",
      "max_pooling2d_1 (MaxPooling2 (None, 27, 27, 96)        0         \n",
      "_________________________________________________________________\n",
      "batch_normalization_1 (Batch (None, 27, 27, 96)        384       \n",
      "_________________________________________________________________\n",
      "conv2d_2 (Conv2D)            (None, 23, 23, 256)       614656    \n",
      "_________________________________________________________________\n",
      "max_pooling2d_2 (MaxPooling2 (None, 11, 11, 256)       0         \n",
      "_________________________________________________________________\n",
      "batch_normalization_2 (Batch (None, 11, 11, 256)       1024      \n",
      "_________________________________________________________________\n",
      "conv2d_3 (Conv2D)            (None, 9, 9, 384)         885120    \n",
      "_________________________________________________________________\n",
      "max_pooling2d_3 (MaxPooling2 (None, 4, 4, 384)         0         \n",
      "_________________________________________________________________\n",
      "batch_normalization_3 (Batch (None, 4, 4, 384)         1536      \n",
      "_________________________________________________________________\n",
      "flatten_1 (Flatten)          (None, 6144)              0         \n",
      "_________________________________________________________________\n",
      "dense_1 (Dense)              (None, 512)               3146240   \n",
      "_________________________________________________________________\n",
      "dropout_1 (Dropout)          (None, 512)               0         \n",
      "_________________________________________________________________\n",
      "dense_2 (Dense)              (None, 512)               262656    \n",
      "_________________________________________________________________\n",
      "dropout_2 (Dropout)          (None, 512)               0         \n",
      "_________________________________________________________________\n",
      "dense_3 (Dense)              (None, 1)                 513       \n",
      "=================================================================\n",
      "Total params: 4,926,337\n",
      "Trainable params: 4,924,865\n",
      "Non-trainable params: 1,472\n",
      "_________________________________________________________________\n",
      "Finished compiling\n"
     ]
    }
   ],
   "source": [
    "# build model\n",
    "model = build_model(input_dim, config)"
   ]
  },
  {
   "cell_type": "code",
   "execution_count": 12,
   "metadata": {
    "ExecuteTime": {
     "end_time": "2018-03-05T21:54:21.315950Z",
     "start_time": "2018-03-05T21:54:19.778932Z"
    },
    "code_folding": [
     0
    ]
   },
   "outputs": [
    {
     "name": "stdout",
     "output_type": "stream",
     "text": [
      "Saving model...\n",
      "Model saved\n"
     ]
    }
   ],
   "source": [
    "# save initial model\n",
    "save_model(log_dir=log_dir, config=config, model=model)"
   ]
  },
  {
   "cell_type": "code",
   "execution_count": 13,
   "metadata": {
    "ExecuteTime": {
     "end_time": "2018-03-05T21:54:21.328699Z",
     "start_time": "2018-03-05T21:54:21.319967Z"
    },
    "code_folding": [
     0
    ]
   },
   "outputs": [],
   "source": [
    "# set variables\n",
    "val_loss = []\n",
    "val_acc = []\n",
    "loss = []\n",
    "acc = []\n",
    "lr = []\n",
    "bs = []"
   ]
  },
  {
   "cell_type": "code",
   "execution_count": 15,
   "metadata": {
    "ExecuteTime": {
     "end_time": "2018-03-05T22:02:36.419618Z",
     "start_time": "2018-03-05T21:55:34.262707Z"
    },
    "code_folding": [
     0,
     35,
     36
    ]
   },
   "outputs": [
    {
     "name": "stdout",
     "output_type": "stream",
     "text": [
      "Will reduce batch size during training, but not learning rate\n",
      "Currently at epoch 1 of 10\n",
      "Batch size is 4\n",
      "Train on 358 samples, validate on 90 samples\n",
      "Epoch 1/10\n",
      "358/358 [==============================] - 42s 117ms/step - loss: 5.1989 - acc: 0.5587 - val_loss: 5.7055 - val_acc: 0.6222\n",
      "Epoch 2/10\n",
      "358/358 [==============================] - 46s 129ms/step - loss: 5.7412 - acc: 0.6089 - val_loss: 5.9100 - val_acc: 0.6333\n",
      "Epoch 3/10\n",
      "358/358 [==============================] - 48s 133ms/step - loss: 5.8581 - acc: 0.6117 - val_loss: 9.9217 - val_acc: 0.3778\n",
      "Epoch 4/10\n",
      "358/358 [==============================] - 42s 117ms/step - loss: 6.6059 - acc: 0.5754 - val_loss: 7.0675 - val_acc: 0.5444\n",
      "Epoch 5/10\n",
      "358/358 [==============================] - 44s 122ms/step - loss: 8.1498 - acc: 0.4804 - val_loss: 7.7632 - val_acc: 0.5000\n",
      "Epoch 00005: early stopping\n",
      "Saving model...\n",
      "Model saved\n",
      "Currently at epoch 6 of 10\n",
      "Batch size is 8\n",
      "Train on 358 samples, validate on 90 samples\n",
      "Epoch 1/5\n",
      "358/358 [==============================] - 39s 109ms/step - loss: 7.6456 - acc: 0.5112 - val_loss: 7.8176 - val_acc: 0.5111\n",
      "Epoch 2/5\n",
      "358/358 [==============================] - 39s 109ms/step - loss: 6.7255 - acc: 0.5698 - val_loss: 6.8025 - val_acc: 0.5667\n",
      "Epoch 3/5\n",
      "358/358 [==============================] - 39s 108ms/step - loss: 5.9419 - acc: 0.6173 - val_loss: 6.3055 - val_acc: 0.6000\n",
      "Epoch 4/5\n",
      "358/358 [==============================] - 37s 103ms/step - loss: 6.0468 - acc: 0.6201 - val_loss: 5.7033 - val_acc: 0.6333\n",
      "\n",
      "Epoch 00004: saving model to /Users/Yacalis/Projects/TensorFlow/cs274c-data/logs/0305_135350-changelr_False-changebs_True-batch_var/chckpt.ep_04-loss_5.70.hdf5\n",
      "Epoch 5/5\n",
      "358/358 [==============================] - 38s 106ms/step - loss: 6.2572 - acc: 0.6117 - val_loss: 5.9100 - val_acc: 0.6333\n",
      "Saving model...\n",
      "Model saved\n",
      "Total times batch size was increased: 2\n",
      "Completed training\n"
     ]
    }
   ],
   "source": [
    "# train model\n",
    "if config.change_lr:  # reduce_lr callback takes care of everything for us\n",
    "    print('Will reduce learning rate during training, but not batch size')\n",
    "    print('Training model...')\n",
    "    model, history = train_model(model, x_train, y_train,\n",
    "                                 batch_size, max_epochs, callbacks, config)\n",
    "    val_loss += history.history['val_loss']\n",
    "    val_acc += history.history['val_acc']\n",
    "    loss += history.history['loss']\n",
    "    acc += history.history['acc']\n",
    "    lr += history.history['lr']\n",
    "    for i in range(len(history.history['lr'])):\n",
    "        bs.append(batch_size)\n",
    "elif config.change_bs:  # need to manually stop and restart training\n",
    "    print('Will reduce batch size during training, but not learning rate')\n",
    "    # load model with its current weights\n",
    "    model = load_model(os.path.join(log_dir, 'model.hdf5'))\n",
    "    while max_epochs >= epoch_iter:\n",
    "        print(f'Currently at epoch {epoch_iter} of {max_epochs}')\n",
    "        print(f'Batch size is {batch_size}')\n",
    "        epochs = max_epochs - epoch_iter + 1\n",
    "        model, history = train_model(model, x_train, y_train,\n",
    "                                     batch_size, epochs, callbacks, config)\n",
    "        epoch_iter += len(history.epoch)\n",
    "        bs += [batch_size for i in range(len(history.epoch))]\n",
    "        val_loss += history.history['val_loss']\n",
    "        val_acc += history.history['val_acc']\n",
    "        loss += history.history['loss']\n",
    "        acc += history.history['acc']\n",
    "        model_iter += 1\n",
    "        batch_size *= batch_size_increase_multiplier\n",
    "        batch_size = batch_size if batch_size < num_train else num_train\n",
    "        save_model(log_dir=log_dir, config=config, model=model)\n",
    "    lr = [0.001 for i in range(len(bs))]\n",
    "    print(f'Total times batch size was increased: {model_iter - 1}')\n",
    "else:\n",
    "    print(f'[!] Whoops: config.change_bs and config.change_lr are both '\n",
    "          f'set to False - please set one of them to True')\n",
    "print('Completed training')"
   ]
  },
  {
   "cell_type": "code",
   "execution_count": 16,
   "metadata": {
    "ExecuteTime": {
     "end_time": "2018-03-05T22:02:39.603597Z",
     "start_time": "2018-03-05T22:02:36.423868Z"
    },
    "code_folding": [
     0
    ]
   },
   "outputs": [
    {
     "name": "stdout",
     "output_type": "stream",
     "text": [
      "Calculating final score...\n",
      "112/112 [==============================] - 3s 28ms/step\n",
      "Final score: [7.769655772617885, 0.5178571428571429]\n"
     ]
    }
   ],
   "source": [
    "# evaluate model\n",
    "print('Calculating final score...')\n",
    "score = model.evaluate(x_test, y_test, batch_size=batch_size)\n",
    "print('Final score:', score)"
   ]
  },
  {
   "cell_type": "code",
   "execution_count": 17,
   "metadata": {
    "ExecuteTime": {
     "end_time": "2018-03-05T22:02:40.864731Z",
     "start_time": "2018-03-05T22:02:39.607098Z"
    },
    "code_folding": [
     0
    ]
   },
   "outputs": [
    {
     "name": "stdout",
     "output_type": "stream",
     "text": [
      "Saving model...\n",
      "Model saved\n"
     ]
    }
   ],
   "source": [
    "# save finished model\n",
    "save_model(log_dir=log_dir, config=config, model=model)"
   ]
  },
  {
   "cell_type": "code",
   "execution_count": 18,
   "metadata": {
    "ExecuteTime": {
     "end_time": "2018-03-05T22:02:40.889906Z",
     "start_time": "2018-03-05T22:02:40.869366Z"
    },
    "code_folding": []
   },
   "outputs": [
    {
     "name": "stdout",
     "output_type": "stream",
     "text": [
      "val_loss 10 <class 'numpy.float64'>\n",
      "val_acc 10 <class 'numpy.float64'>\n",
      "loss 10 <class 'numpy.float64'>\n",
      "acc 10 <class 'numpy.float64'>\n",
      "lr 10 <class 'numpy.float64'>\n",
      "bs 10 <class 'int'>\n"
     ]
    }
   ],
   "source": [
    "# save loss, accuracy, and lr values to dict\n",
    "acc_loss_lr_bs = {'val_loss': val_loss,\n",
    "                  'val_acc': val_acc,\n",
    "                  'loss': loss,\n",
    "                  'acc': acc,\n",
    "                  'lr': [np.float64(i) for i in lr],\n",
    "                  'bs': bs\n",
    "                 }\n",
    "for k, v in acc_loss_lr_bs.items():\n",
    "    print(k, len(v), type(v[0]))"
   ]
  },
  {
   "cell_type": "code",
   "execution_count": 19,
   "metadata": {
    "ExecuteTime": {
     "end_time": "2018-03-05T22:02:40.907838Z",
     "start_time": "2018-03-05T22:02:40.895755Z"
    },
    "code_folding": []
   },
   "outputs": [],
   "source": [
    "# save dict to json\n",
    "acc_loss_lr_bs_path = os.path.join(log_dir, 'acc_loss_lr_bs.json')\n",
    "with open(acc_loss_lr_bs_path, 'w') as f:\n",
    "    json.dump(acc_loss_lr_bs, f, indent=4, sort_keys=True)"
   ]
  },
  {
   "cell_type": "code",
   "execution_count": 20,
   "metadata": {
    "ExecuteTime": {
     "end_time": "2018-03-05T22:02:40.919301Z",
     "start_time": "2018-03-05T22:02:40.911786Z"
    }
   },
   "outputs": [
    {
     "name": "stdout",
     "output_type": "stream",
     "text": [
      "Completed program\n"
     ]
    }
   ],
   "source": [
    "print('Completed program')"
   ]
  },
  {
   "cell_type": "code",
   "execution_count": 21,
   "metadata": {
    "ExecuteTime": {
     "end_time": "2018-03-05T22:02:41.212612Z",
     "start_time": "2018-03-05T22:02:40.922709Z"
    },
    "code_folding": [
     0
    ]
   },
   "outputs": [],
   "source": [
    "# PLOTTING FOR TESTING\n",
    "import matplotlib.pyplot as plt"
   ]
  },
  {
   "cell_type": "code",
   "execution_count": 22,
   "metadata": {
    "ExecuteTime": {
     "end_time": "2018-03-05T22:02:41.225298Z",
     "start_time": "2018-03-05T22:02:41.215936Z"
    },
    "code_folding": [
     0
    ]
   },
   "outputs": [],
   "source": [
    "# load dict from json\n",
    "d = None\n",
    "with open(acc_loss_lr_bs_path, 'r') as f:\n",
    "    d = json.load(f)"
   ]
  },
  {
   "cell_type": "code",
   "execution_count": 23,
   "metadata": {
    "ExecuteTime": {
     "end_time": "2018-03-05T22:02:41.504435Z",
     "start_time": "2018-03-05T22:02:41.233143Z"
    },
    "code_folding": [
     0
    ]
   },
   "outputs": [
    {
     "data": {
      "image/png": "[encoded data removed]",
      "text/plain": [
       "<matplotlib.figure.Figure at 0x1315075f8>"
      ]
     },
     "metadata": {},
     "output_type": "display_data"
    }
   ],
   "source": [
    "# summarize history for accuracy\n",
    "plt.plot(d['acc'])\n",
    "plt.plot(d['val_acc'])\n",
    "plt.title('model accuracy')\n",
    "plt.ylabel('accuracy')\n",
    "plt.xlabel('epoch')\n",
    "plt.legend(['train', 'val'], loc='upper left')\n",
    "plt.show()"
   ]
  },
  {
   "cell_type": "code",
   "execution_count": 24,
   "metadata": {
    "ExecuteTime": {
     "end_time": "2018-03-05T22:02:41.787329Z",
     "start_time": "2018-03-05T22:02:41.510754Z"
    },
    "code_folding": [
     0
    ]
   },
   "outputs": [
    {
     "data": {
      "image/png": "[encoded data removed]",
      "text/plain": [
       "<matplotlib.figure.Figure at 0x13155f5f8>"
      ]
     },
     "metadata": {},
     "output_type": "display_data"
    }
   ],
   "source": [
    "# summarize history for loss\n",
    "plt.plot(d['loss'])\n",
    "plt.plot(d['val_loss'])\n",
    "plt.title('model loss')\n",
    "plt.ylabel('loss')\n",
    "plt.xlabel('epoch')\n",
    "plt.legend(['train', 'val'], loc='upper left')\n",
    "plt.show()"
   ]
  },
  {
   "cell_type": "code",
   "execution_count": 25,
   "metadata": {
    "ExecuteTime": {
     "end_time": "2018-03-05T22:02:42.007542Z",
     "start_time": "2018-03-05T22:02:41.791577Z"
    },
    "code_folding": [
     0
    ]
   },
   "outputs": [
    {
     "data": {
      "image/png": "[encoded data removed]",
      "text/plain": [
       "<matplotlib.figure.Figure at 0x132311da0>"
      ]
     },
     "metadata": {},
     "output_type": "display_data"
    }
   ],
   "source": [
    "# summarize history for lr\n",
    "plt.plot(d['lr'])\n",
    "plt.title('model lr')\n",
    "plt.ylabel('lr')\n",
    "plt.xlabel('epoch')\n",
    "plt.legend(['lr'], loc='upper left')\n",
    "plt.show()"
   ]
  },
  {
   "cell_type": "code",
   "execution_count": 26,
   "metadata": {
    "ExecuteTime": {
     "end_time": "2018-03-05T22:02:42.240871Z",
     "start_time": "2018-03-05T22:02:42.011993Z"
    },
    "code_folding": [
     0
    ]
   },
   "outputs": [
    {
     "data": {
      "image/png": "[encoded data removed]",
      "text/plain": [
       "<matplotlib.figure.Figure at 0x13245c128>"
      ]
     },
     "metadata": {},
     "output_type": "display_data"
    }
   ],
   "source": [
    "# summarize history for bs\n",
    "plt.plot(d['bs'])\n",
    "plt.title('model bs')\n",
    "plt.ylabel('bs')\n",
    "plt.xlabel('epoch')\n",
    "plt.legend(['bs'], loc='upper left')\n",
    "plt.show()"
   ]
  },
  {
   "cell_type": "code",
   "execution_count": null,
   "metadata": {},
   "outputs": [],
   "source": []
  }
 ],
 "metadata": {
  "kernelspec": {
   "display_name": "Python 3",
   "language": "python",
   "name": "python3"
  },
  "language_info": {
   "codemirror_mode": {
    "name": "ipython",
    "version": 3
   },
   "file_extension": ".py",
   "mimetype": "text/x-python",
   "name": "python",
   "nbconvert_exporter": "python",
   "pygments_lexer": "ipython3",
   "version": "3.6.1"
  },
  "latex_envs": {
   "LaTeX_envs_menu_present": true,
   "autoclose": false,
   "autocomplete": true,
   "bibliofile": "biblio.bib",
   "cite_by": "apalike",
   "current_citInitial": 1,
   "eqLabelWithNumbers": true,
   "eqNumInitial": 1,
   "hotkeys": {
    "equation": "Ctrl-E",
    "itemize": "Ctrl-I"
   },
   "labels_anchors": false,
   "latex_user_defs": false,
   "report_style_numbering": false,
   "user_envs_cfg": false
  },
  "varInspector": {
   "cols": {
    "lenName": 16,
    "lenType": 16,
    "lenVar": 40
   },
   "kernels_config": {
    "python": {
     "delete_cmd_postfix": "",
     "delete_cmd_prefix": "del ",
     "library": "var_list.py",
     "varRefreshCmd": "print(var_dic_list())"
    },
    "r": {
     "delete_cmd_postfix": ") ",
     "delete_cmd_prefix": "rm(",
     "library": "var_list.r",
     "varRefreshCmd": "cat(var_dic_list()) "
    }
   },
   "types_to_exclude": [
    "module",
    "function",
    "builtin_function_or_method",
    "instance",
    "_Feature"
   ],
   "window_display": false
  }
 },
 "nbformat": 4,
 "nbformat_minor": 2
}
