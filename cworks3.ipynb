{
 "cells": [
  {
   "cell_type": "code",
   "execution_count": 1,
   "metadata": {
    "ExecuteTime": {
     "end_time": "2018-03-05T22:46:33.669093Z",
     "start_time": "2018-03-05T22:46:31.221587Z"
    },
    "code_folding": [
     0
    ]
   },
   "outputs": [
    {
     "name": "stderr",
     "output_type": "stream",
     "text": [
      "/Library/Frameworks/Python.framework/Versions/3.6/lib/python3.6/site-packages/h5py/__init__.py:36: FutureWarning: Conversion of the second argument of issubdtype from `float` to `np.floating` is deprecated. In future, it will be treated as `np.float64 == np.dtype(float).type`.\n",
      "  from ._conv import register_converters as _register_converters\n",
      "Using TensorFlow backend.\n"
     ]
    }
   ],
   "source": [
    "# import libs\n",
    "\"\"\"\n",
    "Created on Tue Feb 20 15:10:00 2018\n",
    "\n",
    "@author: Yacalis\n",
    "\"\"\"\n",
    "\n",
    "import os\n",
    "import json\n",
    "import numpy as np\n",
    "from sklearn.model_selection import train_test_split\n",
    "from Callbacks import Callbacks\n",
    "from Config import Config\n",
    "from DataLoader import DataLoader\n",
    "from folder_defs import get_logdir, get_data_dir, get_image_dir\n",
    "from train_model import train_model\n",
    "from build_model import build_model\n",
    "from save_model import save_model\n",
    "from get_data_dict import get_data_dict"
   ]
  },
  {
   "cell_type": "code",
   "execution_count": 2,
   "metadata": {
    "ExecuteTime": {
     "end_time": "2018-03-05T22:46:33.679621Z",
     "start_time": "2018-03-05T22:46:33.672688Z"
    }
   },
   "outputs": [
    {
     "name": "stdout",
     "output_type": "stream",
     "text": [
      "Beginning program\n"
     ]
    }
   ],
   "source": [
    "print('Beginning program')"
   ]
  },
  {
   "cell_type": "code",
   "execution_count": 3,
   "metadata": {
    "ExecuteTime": {
     "end_time": "2018-03-05T22:46:33.701981Z",
     "start_time": "2018-03-05T22:46:33.683286Z"
    },
    "code_folding": [
     0
    ]
   },
   "outputs": [
    {
     "name": "stdout",
     "output_type": "stream",
     "text": [
      "unparsed config options: ['-f', '/Users/Yacalis/Library/Jupyter/runtime/kernel-344a7e9b-f5a2-4273-baf9-5ab4ce5ffc0a.json']\n",
      "change lr: True\n",
      "change bs: False\n",
      "max epochs: 5\n"
     ]
    }
   ],
   "source": [
    "# get config\n",
    "config = Config().config\n",
    "print('change lr:', config.change_lr)\n",
    "print('change bs:', config.change_bs)\n",
    "print('max epochs:', config.epochs)\n",
    "if config.change_bs == config.change_lr:\n",
    "    print(f'[!] Whoops: config.change_bs and config.change_lr should be '\n",
    "          f'different bool values, but they are both {config.change_bs} '\n",
    "          f'-- please set one and only one of them to True')"
   ]
  },
  {
   "cell_type": "code",
   "execution_count": 4,
   "metadata": {
    "ExecuteTime": {
     "end_time": "2018-03-05T22:46:33.718398Z",
     "start_time": "2018-03-05T22:46:33.708034Z"
    }
   },
   "outputs": [],
   "source": [
    "# OVERRIDE CONFIG FOR TESTING\n",
    "config.change_lr = True\n",
    "config.change_bs = False"
   ]
  },
  {
   "cell_type": "code",
   "execution_count": 5,
   "metadata": {
    "ExecuteTime": {
     "end_time": "2018-03-05T22:46:33.745352Z",
     "start_time": "2018-03-05T22:46:33.725132Z"
    },
    "code_folding": [
     0
    ]
   },
   "outputs": [
    {
     "name": "stdout",
     "output_type": "stream",
     "text": [
      "log dir: /Users/Yacalis/Projects/TensorFlow/cs274c-data/logs/0305_144633-changelr_True-changebs_False-batch_4\n",
      "data dir: /Users/Yacalis/Projects/TensorFlow/cs274c-data/\n",
      "image dir: /Users/Yacalis/Projects/TensorFlow/cs274c-data/Pictures/test/\n"
     ]
    }
   ],
   "source": [
    "# get directories\n",
    "log_dir = get_logdir(config)\n",
    "data_dir = get_data_dir()\n",
    "image_dir = get_image_dir()\n",
    "print('log dir:', log_dir)\n",
    "print('data dir:', data_dir)\n",
    "print('image dir:', image_dir)"
   ]
  },
  {
   "cell_type": "code",
   "execution_count": 6,
   "metadata": {
    "ExecuteTime": {
     "end_time": "2018-03-05T22:47:02.772171Z",
     "start_time": "2018-03-05T22:46:33.750640Z"
    },
    "code_folding": [
     0
    ]
   },
   "outputs": [
    {
     "name": "stdout",
     "output_type": "stream",
     "text": [
      "Loading data...\n",
      "data file:  /Users/Yacalis/Projects/TensorFlow/cs274c-data/imdb.mat\n",
      "number of records from data file:  460723\n",
      "image dir:  /Users/Yacalis/Projects/TensorFlow/cs274c-data/Pictures/test/\n",
      "\tsub dirs:\n",
      "\t\t 00\n",
      "shape of x_data:  (560, 228, 228, 3)\n"
     ]
    }
   ],
   "source": [
    "# get data\n",
    "print('Loading data...')\n",
    "data_dict = get_data_dict(data_dir)\n",
    "dataloader = DataLoader(data_dict=data_dict, image_dir=image_dir)\n",
    "x_data, y_data = dataloader.retrieve_data()"
   ]
  },
  {
   "cell_type": "code",
   "execution_count": 7,
   "metadata": {
    "ExecuteTime": {
     "end_time": "2018-03-05T22:47:02.789817Z",
     "start_time": "2018-03-05T22:47:02.776525Z"
    },
    "code_folding": [
     0
    ]
   },
   "outputs": [
    {
     "name": "stdout",
     "output_type": "stream",
     "text": [
      "input dim: (228, 228, 3)\n",
      "len of data: 560\n"
     ]
    }
   ],
   "source": [
    "# get input dim\n",
    "input_dim = x_data[0].shape\n",
    "print('input dim:', input_dim)\n",
    "print('len of data:', x_data.shape[0])"
   ]
  },
  {
   "cell_type": "code",
   "execution_count": 8,
   "metadata": {
    "ExecuteTime": {
     "end_time": "2018-03-05T22:47:02.894639Z",
     "start_time": "2018-03-05T22:47:02.795715Z"
    },
    "code_folding": [
     0
    ]
   },
   "outputs": [
    {
     "name": "stdout",
     "output_type": "stream",
     "text": [
      "Num training examples (excludes test and val): 358\n"
     ]
    }
   ],
   "source": [
    "# split data into training and test sets - shuffles by default\n",
    "x_train, x_test, y_train, y_test = train_test_split(\n",
    "    x_data, y_data, test_size=config.test_split)\n",
    "num_train = int(x_train.shape[0] * (1 - config.val_split))\n",
    "print(f'Num training examples (excludes test and val): {num_train}')"
   ]
  },
  {
   "cell_type": "code",
   "execution_count": 9,
   "metadata": {
    "ExecuteTime": {
     "end_time": "2018-03-05T22:47:04.305012Z",
     "start_time": "2018-03-05T22:47:02.899245Z"
    },
    "code_folding": [
     0
    ]
   },
   "outputs": [
    {
     "name": "stdout",
     "output_type": "stream",
     "text": [
      "Building model...\n",
      "Finished building model\n",
      "Compiling model...\n",
      "_________________________________________________________________\n",
      "Layer (type)                 Output Shape              Param #   \n",
      "=================================================================\n",
      "conv2d_1 (Conv2D)            (None, 56, 56, 96)        14208     \n",
      "_________________________________________________________________\n",
      "max_pooling2d_1 (MaxPooling2 (None, 27, 27, 96)        0         \n",
      "_________________________________________________________________\n",
      "batch_normalization_1 (Batch (None, 27, 27, 96)        384       \n",
      "_________________________________________________________________\n",
      "conv2d_2 (Conv2D)            (None, 23, 23, 256)       614656    \n",
      "_________________________________________________________________\n",
      "max_pooling2d_2 (MaxPooling2 (None, 11, 11, 256)       0         \n",
      "_________________________________________________________________\n",
      "batch_normalization_2 (Batch (None, 11, 11, 256)       1024      \n",
      "_________________________________________________________________\n",
      "conv2d_3 (Conv2D)            (None, 9, 9, 384)         885120    \n",
      "_________________________________________________________________\n",
      "max_pooling2d_3 (MaxPooling2 (None, 4, 4, 384)         0         \n",
      "_________________________________________________________________\n",
      "batch_normalization_3 (Batch (None, 4, 4, 384)         1536      \n",
      "_________________________________________________________________\n",
      "flatten_1 (Flatten)          (None, 6144)              0         \n",
      "_________________________________________________________________\n",
      "dense_1 (Dense)              (None, 512)               3146240   \n",
      "_________________________________________________________________\n",
      "dropout_1 (Dropout)          (None, 512)               0         \n",
      "_________________________________________________________________\n",
      "dense_2 (Dense)              (None, 512)               262656    \n",
      "_________________________________________________________________\n",
      "dropout_2 (Dropout)          (None, 512)               0         \n",
      "_________________________________________________________________\n",
      "dense_3 (Dense)              (None, 2)                 1026      \n",
      "=================================================================\n",
      "Total params: 4,926,850\n",
      "Trainable params: 4,925,378\n",
      "Non-trainable params: 1,472\n",
      "_________________________________________________________________\n",
      "Finished compiling\n"
     ]
    }
   ],
   "source": [
    "# build model\n",
    "model = build_model(input_dim, config)"
   ]
  },
  {
   "cell_type": "code",
   "execution_count": 10,
   "metadata": {
    "ExecuteTime": {
     "end_time": "2018-03-05T22:47:05.579870Z",
     "start_time": "2018-03-05T22:47:04.309112Z"
    },
    "code_folding": [
     0
    ]
   },
   "outputs": [
    {
     "name": "stdout",
     "output_type": "stream",
     "text": [
      "Saving model...\n",
      "Model saved\n"
     ]
    }
   ],
   "source": [
    "# save initial model\n",
    "save_model(log_dir=log_dir, config=config, model=model)"
   ]
  },
  {
   "cell_type": "code",
   "execution_count": 11,
   "metadata": {
    "ExecuteTime": {
     "end_time": "2018-03-05T22:47:05.601760Z",
     "start_time": "2018-03-05T22:47:05.584945Z"
    },
    "code_folding": [
     0
    ]
   },
   "outputs": [],
   "source": [
    "# set variables\n",
    "val_loss = []\n",
    "val_acc = []\n",
    "loss = []\n",
    "acc = []\n",
    "lr = []\n",
    "bs = []\n",
    "max_epochs = config.epochs\n",
    "batch_size = config.batch_size\n",
    "batch_size_mult = 2\n",
    "epoch_iter = 1"
   ]
  },
  {
   "cell_type": "code",
   "execution_count": 12,
   "metadata": {
    "ExecuteTime": {
     "end_time": "2018-03-05T22:47:06.397485Z",
     "start_time": "2018-03-05T22:47:05.605178Z"
    },
    "code_folding": [
     0
    ]
   },
   "outputs": [
    {
     "name": "stdout",
     "output_type": "stream",
     "text": [
      "callbacks:\n",
      "\t <keras.callbacks.TensorBoard object at 0x12027d128>\n",
      "\t <keras.callbacks.ModelCheckpoint object at 0x1230e0cc0>\n",
      "\t <keras.callbacks.History object at 0x12027d160>\n",
      "\t <keras.callbacks.ReduceLROnPlateau object at 0x122abcc50>\n"
     ]
    }
   ],
   "source": [
    "# get callbacks\n",
    "callbacks = Callbacks(config, log_dir).callbacks\n",
    "print('callbacks:')\n",
    "for callback in callbacks:\n",
    "    print('\\t', callback)"
   ]
  },
  {
   "cell_type": "code",
   "execution_count": 14,
   "metadata": {
    "ExecuteTime": {
     "end_time": "2018-03-05T22:51:03.283110Z",
     "start_time": "2018-03-05T22:47:35.198850Z"
    },
    "code_folding": [
     0
    ]
   },
   "outputs": [
    {
     "name": "stdout",
     "output_type": "stream",
     "text": [
      "Will reduce learning rate during training, but not batch size\n",
      "Training model...\n",
      "Train on 358 samples, validate on 90 samples\n",
      "Epoch 1/5\n",
      "358/358 [==============================] - 43s 120ms/step - loss: 4.5674 - acc: 0.6117 - val_loss: 6.0824 - val_acc: 0.5889\n",
      "Epoch 2/5\n",
      "358/358 [==============================] - 39s 109ms/step - loss: 5.6077 - acc: 0.6313 - val_loss: 7.8800 - val_acc: 0.5111\n",
      "Epoch 3/5\n",
      "358/358 [==============================] - 42s 117ms/step - loss: 6.1231 - acc: 0.6201 - val_loss: 7.8800 - val_acc: 0.5111\n",
      "Epoch 4/5\n",
      "358/358 [==============================] - 40s 112ms/step - loss: 6.1231 - acc: 0.6201 - val_loss: 7.8800 - val_acc: 0.5111\n",
      "Epoch 5/5\n",
      "358/358 [==============================] - 41s 115ms/step - loss: 6.1231 - acc: 0.6201 - val_loss: 7.8800 - val_acc: 0.5111\n",
      "Completed training\n"
     ]
    }
   ],
   "source": [
    "# train model\n",
    "if config.change_lr:  # reduce_lr callback takes care of everything for us\n",
    "    print('Will reduce learning rate during training, but not batch size')\n",
    "    print('Training model...')\n",
    "    model, history = train_model(model, x_train, y_train, batch_size, max_epochs, callbacks, config)\n",
    "\n",
    "    # store history (bs is constant)\n",
    "    val_loss += history.history['val_loss']\n",
    "    val_acc += history.history['val_acc']\n",
    "    loss += history.history['loss']\n",
    "    acc += history.history['acc']\n",
    "    lr += history.history['lr']\n",
    "    bs = [batch_size for i in range(len(lr))]\n",
    "\n",
    "elif config.change_bs:  # need to manually stop and restart training\n",
    "    print('Will reduce batch size during training, but not learning rate')\n",
    "    while max_epochs >= epoch_iter:\n",
    "        print(f'Currently at epoch {epoch_iter} of {max_epochs}, batch size is {batch_size}')\n",
    "        epochs = max_epochs - epoch_iter + 1\n",
    "        model, history = train_model(model, x_train, y_train, batch_size, epochs, callbacks, config)\n",
    "\n",
    "        # store history\n",
    "        val_loss += history.history['val_loss']\n",
    "        val_acc += history.history['val_acc']\n",
    "        loss += history.history['loss']\n",
    "        acc += history.history['acc']\n",
    "        bs += [batch_size for i in range(len(history.epoch))]\n",
    "\n",
    "        # update training parameters\n",
    "        epoch_iter += len(history.epoch)\n",
    "        batch_size *= batch_size_mult\n",
    "        batch_size = batch_size if batch_size < num_train else num_train\n",
    "\n",
    "    # store lr history as constant\n",
    "    lr = [0.001 for i in range(len(bs))]\n",
    "\n",
    "else:\n",
    "    print(f'[!] Whoops: config.change_bs and config.change_lr are both '\n",
    "          f'set to False - please set one of them to True')\n",
    "\n",
    "print('Completed training')"
   ]
  },
  {
   "cell_type": "code",
   "execution_count": 15,
   "metadata": {
    "ExecuteTime": {
     "end_time": "2018-03-05T22:51:04.545179Z",
     "start_time": "2018-03-05T22:51:03.287044Z"
    },
    "code_folding": [
     0
    ]
   },
   "outputs": [
    {
     "name": "stdout",
     "output_type": "stream",
     "text": [
      "Saving model...\n",
      "Model saved\n"
     ]
    }
   ],
   "source": [
    "# save finished model\n",
    "save_model(log_dir=log_dir, config=config, model=model)"
   ]
  },
  {
   "cell_type": "code",
   "execution_count": 16,
   "metadata": {
    "ExecuteTime": {
     "end_time": "2018-03-05T22:51:04.568296Z",
     "start_time": "2018-03-05T22:51:04.549669Z"
    },
    "code_folding": [
     0
    ]
   },
   "outputs": [],
   "source": [
    "# save loss, accuracy, lr, and bs values across epochs as json\n",
    "acc_loss_lr_bs = {'val_loss': val_loss,\n",
    "                  'val_acc': val_acc,\n",
    "                  'loss': loss,\n",
    "                  'acc': acc,\n",
    "                  'lr': [np.float64(i) for i in lr],\n",
    "                  'bs': bs\n",
    "                  }\n",
    "acc_loss_lr_bs_path = os.path.join(log_dir, 'acc_loss_lr_bs.json')\n",
    "with open(acc_loss_lr_bs_path, 'w') as f:\n",
    "    json.dump(acc_loss_lr_bs, f, indent=4, sort_keys=True)"
   ]
  },
  {
   "cell_type": "code",
   "execution_count": 17,
   "metadata": {
    "ExecuteTime": {
     "end_time": "2018-03-05T22:51:07.971221Z",
     "start_time": "2018-03-05T22:51:04.573204Z"
    },
    "code_folding": [
     0
    ]
   },
   "outputs": [
    {
     "name": "stdout",
     "output_type": "stream",
     "text": [
      "Calculating final score...\n",
      "112/112 [==============================] - 3s 30ms/step\n",
      "Final score: [6.619932042700904, 0.5892857142857143]\n"
     ]
    }
   ],
   "source": [
    "# evaluate model\n",
    "print('Calculating final score...')\n",
    "score = model.evaluate(x_test, y_test, batch_size=batch_size)\n",
    "print('Final score:', score)"
   ]
  },
  {
   "cell_type": "code",
   "execution_count": 18,
   "metadata": {
    "ExecuteTime": {
     "end_time": "2018-03-05T22:51:07.981771Z",
     "start_time": "2018-03-05T22:51:07.975315Z"
    }
   },
   "outputs": [
    {
     "name": "stdout",
     "output_type": "stream",
     "text": [
      "Completed program\n"
     ]
    }
   ],
   "source": [
    "print('Completed program')"
   ]
  },
  {
   "cell_type": "code",
   "execution_count": 19,
   "metadata": {
    "ExecuteTime": {
     "end_time": "2018-03-05T22:51:08.173823Z",
     "start_time": "2018-03-05T22:51:07.985434Z"
    },
    "code_folding": [
     0
    ]
   },
   "outputs": [],
   "source": [
    "# PLOTTING FOR TESTING\n",
    "import matplotlib.pyplot as plt"
   ]
  },
  {
   "cell_type": "code",
   "execution_count": 20,
   "metadata": {
    "ExecuteTime": {
     "end_time": "2018-03-05T22:51:08.185638Z",
     "start_time": "2018-03-05T22:51:08.177047Z"
    },
    "code_folding": [
     0
    ]
   },
   "outputs": [],
   "source": [
    "# load dict from json\n",
    "d = None\n",
    "with open(acc_loss_lr_bs_path, 'r') as f:\n",
    "    d = json.load(f)"
   ]
  },
  {
   "cell_type": "code",
   "execution_count": 21,
   "metadata": {
    "ExecuteTime": {
     "end_time": "2018-03-05T22:51:09.230294Z",
     "start_time": "2018-03-05T22:51:08.190536Z"
    },
    "code_folding": [
     0
    ]
   },
   "outputs": [
    {
     "data": {
      "image/png": "[encoded data removed]",
      "text/plain": [
       "<matplotlib.figure.Figure at 0x12ef28f60>"
      ]
     },
     "metadata": {},
     "output_type": "display_data"
    }
   ],
   "source": [
    "# plot dict values\n",
    "plt.figure(figsize=(20,10))\n",
    "\n",
    "# summarize history for accuracy\n",
    "plt.subplot(2, 2, 1)\n",
    "plt.plot(d['acc'])\n",
    "plt.plot(d['val_acc'])\n",
    "plt.title('model accuracy')\n",
    "plt.ylabel('accuracy')\n",
    "plt.xlabel('epoch')\n",
    "plt.legend(['train', 'val'], loc='upper left')\n",
    "\n",
    "# summarize history for loss\n",
    "plt.subplot(2, 2, 2)\n",
    "plt.plot(d['loss'])\n",
    "plt.plot(d['val_loss'])\n",
    "plt.title('model loss')\n",
    "plt.ylabel('loss')\n",
    "plt.xlabel('epoch')\n",
    "plt.legend(['train', 'val'], loc='upper left')\n",
    "\n",
    "# summarize history for lr\n",
    "plt.subplot(2, 2, 3)\n",
    "plt.plot(d['lr'])\n",
    "plt.title('model lr')\n",
    "plt.ylabel('lr')\n",
    "plt.xlabel('epoch')\n",
    "plt.legend(['lr'], loc='upper left')\n",
    "\n",
    "# summarize history for bs\n",
    "plt.subplot(2, 2, 4)\n",
    "plt.plot(d['bs'])\n",
    "plt.title('model bs')\n",
    "plt.ylabel('bs')\n",
    "plt.xlabel('epoch')\n",
    "plt.legend(['bs'], loc='upper left')\n",
    "\n",
    "plt.show()"
   ]
  }
 ],
 "metadata": {
  "kernelspec": {
   "display_name": "Python 3",
   "language": "python",
   "name": "python3"
  },
  "language_info": {
   "codemirror_mode": {
    "name": "ipython",
    "version": 3
   },
   "file_extension": ".py",
   "mimetype": "text/x-python",
   "name": "python",
   "nbconvert_exporter": "python",
   "pygments_lexer": "ipython3",
   "version": "3.6.1"
  },
  "latex_envs": {
   "LaTeX_envs_menu_present": true,
   "autoclose": false,
   "autocomplete": true,
   "bibliofile": "biblio.bib",
   "cite_by": "apalike",
   "current_citInitial": 1,
   "eqLabelWithNumbers": true,
   "eqNumInitial": 1,
   "hotkeys": {
    "equation": "Ctrl-E",
    "itemize": "Ctrl-I"
   },
   "labels_anchors": false,
   "latex_user_defs": false,
   "report_style_numbering": false,
   "user_envs_cfg": false
  },
  "varInspector": {
   "cols": {
    "lenName": 16,
    "lenType": 16,
    "lenVar": 40
   },
   "kernels_config": {
    "python": {
     "delete_cmd_postfix": "",
     "delete_cmd_prefix": "del ",
     "library": "var_list.py",
     "varRefreshCmd": "print(var_dic_list())"
    },
    "r": {
     "delete_cmd_postfix": ") ",
     "delete_cmd_prefix": "rm(",
     "library": "var_list.r",
     "varRefreshCmd": "cat(var_dic_list()) "
    }
   },
   "types_to_exclude": [
    "module",
    "function",
    "builtin_function_or_method",
    "instance",
    "_Feature"
   ],
   "window_display": false
  }
 },
 "nbformat": 4,
 "nbformat_minor": 2
}
