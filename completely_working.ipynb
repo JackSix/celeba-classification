{
 "cells": [
  {
   "cell_type": "code",
   "execution_count": 1,
   "metadata": {},
   "outputs": [
    {
     "name": "stderr",
     "output_type": "stream",
     "text": [
      "/Library/Frameworks/Python.framework/Versions/3.6/lib/python3.6/site-packages/h5py/__init__.py:36: FutureWarning: Conversion of the second argument of issubdtype from `float` to `np.floating` is deprecated. In future, it will be treated as `np.float64 == np.dtype(float).type`.\n",
      "  from ._conv import register_converters as _register_converters\n",
      "Using TensorFlow backend.\n"
     ]
    }
   ],
   "source": [
    "import os\n",
    "from sklearn.model_selection import train_test_split\n",
    "from Callbacks import Callbacks\n",
    "from Config import Config\n",
    "from DataLoader import DataLoader\n",
    "from folder_defs import get_logdir, get_data_dir, get_image_dir\n",
    "from train_model import train_model\n",
    "from build_model import build_model\n",
    "from save_model import save_model\n",
    "from keras.models import load_model"
   ]
  },
  {
   "cell_type": "code",
   "execution_count": 2,
   "metadata": {},
   "outputs": [
    {
     "name": "stdout",
     "output_type": "stream",
     "text": [
      "Beginning program\n",
      "unparsed config options: ['-f', '/Users/Yacalis/Library/Jupyter/runtime/kernel-6355478c-4397-4036-87cc-e5a90e84af01.json']\n"
     ]
    }
   ],
   "source": [
    "print('Beginning program')\n",
    "\n",
    "# get config\n",
    "config = Config().config\n",
    "if config.change_bs == config.change_lr:\n",
    "    raise Exception(f'[!] Error: config.change_bs and config.change_lr should'\n",
    "                    f'be different bool values, but they are both'\n",
    "                    f'{config.change_bs}. Set only one of them to True')"
   ]
  },
  {
   "cell_type": "code",
   "execution_count": 3,
   "metadata": {},
   "outputs": [],
   "source": [
    "# get constants\n",
    "max_epochs = config.epochs\n",
    "batch_size = config.batch_size\n",
    "batch_size_increase_multiplier = 2\n",
    "model_iter = 1\n",
    "epoch_iter = 1"
   ]
  },
  {
   "cell_type": "code",
   "execution_count": 4,
   "metadata": {},
   "outputs": [
    {
     "name": "stdout",
     "output_type": "stream",
     "text": [
      "log dir: /Users/Yacalis/Projects/TensorFlow/cs274c-data/logs/0301_163609-changelr_False-changebs_True-batch_var\n",
      "data dir: /Users/Yacalis/Projects/TensorFlow/cs274c-data/\n",
      "image dir: /Users/Yacalis/Projects/TensorFlow/cs274c-data/Pictures/test/\n"
     ]
    }
   ],
   "source": [
    "# get directories\n",
    "log_dir = get_logdir(config)\n",
    "data_dir = get_data_dir()\n",
    "image_dir = get_image_dir()\n",
    "print('log dir:', log_dir)\n",
    "print('data dir:', data_dir)\n",
    "print('image dir:', image_dir)"
   ]
  },
  {
   "cell_type": "code",
   "execution_count": 5,
   "metadata": {},
   "outputs": [
    {
     "name": "stdout",
     "output_type": "stream",
     "text": [
      "callbacks:\n",
      "\t <keras.callbacks.TensorBoard object at 0x11fd41748>\n",
      "\t <keras.callbacks.ModelCheckpoint object at 0x11fd41fd0>\n",
      "\t <keras.callbacks.History object at 0x11fd41780>\n",
      "\t <keras.callbacks.EarlyStopping object at 0x11fd41f98>\n"
     ]
    }
   ],
   "source": [
    "# get callbacks\n",
    "callbacks = Callbacks(config, log_dir).callbacks\n",
    "print('callbacks:')\n",
    "for callback in callbacks:\n",
    "    print('\\t', callback)"
   ]
  },
  {
   "cell_type": "code",
   "execution_count": 6,
   "metadata": {},
   "outputs": [
    {
     "name": "stdout",
     "output_type": "stream",
     "text": [
      "Loading data...\n",
      "data file:  /Users/Yacalis/Projects/TensorFlow/cs274c-data/imdb.mat\n",
      "number of records from data file:  460723\n",
      "image dir:  /Users/Yacalis/Projects/TensorFlow/cs274c-data/Pictures/test/\n",
      "\tsub dirs:\n",
      "\t\t 00\n",
      "shape of x_data:  (560, 228, 228, 3)\n"
     ]
    }
   ],
   "source": [
    "# get data\n",
    "print('Loading data...')\n",
    "dataloader = DataLoader(data_dir=data_dir, image_dir=image_dir)\n",
    "x_data, y_data = dataloader.retrieve_data()"
   ]
  },
  {
   "cell_type": "code",
   "execution_count": 7,
   "metadata": {},
   "outputs": [
    {
     "name": "stdout",
     "output_type": "stream",
     "text": [
      "input dim:  (228, 228, 3)\n",
      "len of data:  560\n"
     ]
    }
   ],
   "source": [
    "# get input dim\n",
    "input_dim = x_data[0].shape\n",
    "print('input dim: ', input_dim)\n",
    "print('len of data: ', x_data.shape[0])"
   ]
  },
  {
   "cell_type": "code",
   "execution_count": 8,
   "metadata": {},
   "outputs": [
    {
     "name": "stdout",
     "output_type": "stream",
     "text": [
      "Num training examples (excludes test and val): 358\n"
     ]
    }
   ],
   "source": [
    "# split data into training and test sets - shuffles by default\n",
    "x_train, x_test, y_train, y_test = train_test_split(\n",
    "    x_data, y_data, test_size=0.2)\n",
    "num_train = int(x_train.shape[0] * 0.8)\n",
    "print(f'Num training examples (excludes test and val): {num_train}')"
   ]
  },
  {
   "cell_type": "code",
   "execution_count": 9,
   "metadata": {},
   "outputs": [
    {
     "name": "stdout",
     "output_type": "stream",
     "text": [
      "Building model...\n",
      "Finished building model\n",
      "Compiling model...\n",
      "_________________________________________________________________\n",
      "Layer (type)                 Output Shape              Param #   \n",
      "=================================================================\n",
      "conv2d_1 (Conv2D)            (None, 56, 56, 96)        14208     \n",
      "_________________________________________________________________\n",
      "max_pooling2d_1 (MaxPooling2 (None, 27, 27, 96)        0         \n",
      "_________________________________________________________________\n",
      "batch_normalization_1 (Batch (None, 27, 27, 96)        384       \n",
      "_________________________________________________________________\n",
      "conv2d_2 (Conv2D)            (None, 23, 23, 256)       614656    \n",
      "_________________________________________________________________\n",
      "max_pooling2d_2 (MaxPooling2 (None, 11, 11, 256)       0         \n",
      "_________________________________________________________________\n",
      "batch_normalization_2 (Batch (None, 11, 11, 256)       1024      \n",
      "_________________________________________________________________\n",
      "conv2d_3 (Conv2D)            (None, 9, 9, 384)         885120    \n",
      "_________________________________________________________________\n",
      "max_pooling2d_3 (MaxPooling2 (None, 4, 4, 384)         0         \n",
      "_________________________________________________________________\n",
      "batch_normalization_3 (Batch (None, 4, 4, 384)         1536      \n",
      "_________________________________________________________________\n",
      "flatten_1 (Flatten)          (None, 6144)              0         \n",
      "_________________________________________________________________\n",
      "dense_1 (Dense)              (None, 512)               3146240   \n",
      "_________________________________________________________________\n",
      "dropout_1 (Dropout)          (None, 512)               0         \n",
      "_________________________________________________________________\n",
      "dense_2 (Dense)              (None, 512)               262656    \n",
      "_________________________________________________________________\n",
      "dropout_2 (Dropout)          (None, 512)               0         \n",
      "_________________________________________________________________\n",
      "dense_3 (Dense)              (None, 2)                 1026      \n",
      "=================================================================\n",
      "Total params: 4,926,850\n",
      "Trainable params: 4,925,378\n",
      "Non-trainable params: 1,472\n",
      "_________________________________________________________________\n",
      "Finished compiling\n"
     ]
    }
   ],
   "source": [
    "# build model\n",
    "model = build_model(input_dim, config)"
   ]
  },
  {
   "cell_type": "code",
   "execution_count": 10,
   "metadata": {},
   "outputs": [
    {
     "name": "stdout",
     "output_type": "stream",
     "text": [
      "Saving model...\n",
      "Model saved\n"
     ]
    }
   ],
   "source": [
    "# save initial model\n",
    "save_model(log_dir=log_dir, config=config, model=model)"
   ]
  },
  {
   "cell_type": "code",
   "execution_count": 11,
   "metadata": {},
   "outputs": [
    {
     "name": "stdout",
     "output_type": "stream",
     "text": [
      "True False\n"
     ]
    }
   ],
   "source": [
    "print(config.change_bs, config.change_lr)"
   ]
  },
  {
   "cell_type": "code",
   "execution_count": 12,
   "metadata": {},
   "outputs": [],
   "source": [
    "# set variables\n",
    "val_loss = []\n",
    "val_acc = []\n",
    "loss = []\n",
    "acc = []\n",
    "lr = []"
   ]
  },
  {
   "cell_type": "code",
   "execution_count": 13,
   "metadata": {},
   "outputs": [
    {
     "name": "stdout",
     "output_type": "stream",
     "text": [
      "Will reduce batch size during training, but not learning rate\n",
      "Currently at epoch 1 of 20\n",
      "Batch size is 8\n",
      "Training model 1...\n",
      "Train on 358 samples, validate on 90 samples\n",
      "Epoch 1/20\n",
      "358/358 [==============================] - 35s 98ms/step - loss: 3.6275 - acc: 0.5950 - val_loss: 4.3589 - val_acc: 0.6889\n",
      "Epoch 2/20\n",
      "358/358 [==============================] - 44s 122ms/step - loss: 5.4131 - acc: 0.6034 - val_loss: 6.1532 - val_acc: 0.6111\n",
      "Epoch 3/20\n",
      "358/358 [==============================] - 42s 117ms/step - loss: 5.7434 - acc: 0.6061 - val_loss: 6.6206 - val_acc: 0.5556\n",
      "Epoch 00003: early stopping\n",
      "Saving model...\n",
      "Model saved\n",
      "Currently at epoch 4 of 20\n",
      "Batch size is 16\n",
      "Training model 2...\n",
      "Train on 358 samples, validate on 90 samples\n",
      "Epoch 1/17\n",
      "358/358 [==============================] - 34s 94ms/step - loss: 5.9774 - acc: 0.6089 - val_loss: 5.0783 - val_acc: 0.6556\n",
      "Epoch 2/17\n",
      "358/358 [==============================] - 38s 105ms/step - loss: 5.0798 - acc: 0.6536 - val_loss: 6.3696 - val_acc: 0.5889\n",
      "Epoch 3/17\n",
      "358/358 [==============================] - 33s 92ms/step - loss: 4.6891 - acc: 0.6872 - val_loss: 7.5518 - val_acc: 0.5111\n",
      "Epoch 00003: early stopping\n",
      "Saving model...\n",
      "Model saved\n",
      "Currently at epoch 7 of 20\n",
      "Batch size is 32\n",
      "Training model 3...\n",
      "Train on 358 samples, validate on 90 samples\n",
      "Epoch 1/14\n",
      "358/358 [==============================] - 32s 90ms/step - loss: 4.3938 - acc: 0.6955 - val_loss: 6.3045 - val_acc: 0.5889\n",
      "Epoch 2/14\n",
      "358/358 [==============================] - 33s 93ms/step - loss: 4.7617 - acc: 0.6592 - val_loss: 4.2712 - val_acc: 0.6556\n",
      "Epoch 3/14\n",
      "358/358 [==============================] - 34s 95ms/step - loss: 3.6051 - acc: 0.7207 - val_loss: 6.2833 - val_acc: 0.5778\n",
      "Epoch 4/14\n",
      "358/358 [==============================] - 34s 94ms/step - loss: 3.6223 - acc: 0.7235 - val_loss: 6.8603 - val_acc: 0.5444\n",
      "\n",
      "Epoch 00004: saving model to /Users/Yacalis/Projects/TensorFlow/cs274c-data/logs/0301_163609-changelr_False-changebs_True-batch_var/chckpt.ep_04-loss_6.86.hdf5\n",
      "Epoch 00004: early stopping\n",
      "Saving model...\n",
      "Model saved\n",
      "Currently at epoch 11 of 20\n",
      "Batch size is 64\n",
      "Training model 4...\n",
      "Train on 358 samples, validate on 90 samples\n",
      "Epoch 1/10\n",
      "358/358 [==============================] - 34s 94ms/step - loss: 3.3039 - acc: 0.7598 - val_loss: 6.7758 - val_acc: 0.5444\n",
      "Epoch 2/10\n",
      "358/358 [==============================] - 32s 90ms/step - loss: 3.6368 - acc: 0.7263 - val_loss: 6.2713 - val_acc: 0.5778\n",
      "Epoch 3/10\n",
      "358/358 [==============================] - 32s 89ms/step - loss: 3.3945 - acc: 0.7458 - val_loss: 6.0779 - val_acc: 0.5889\n",
      "Epoch 4/10\n",
      "358/358 [==============================] - 33s 92ms/step - loss: 3.7178 - acc: 0.7151 - val_loss: 6.7524 - val_acc: 0.5556\n",
      "Epoch 5/10\n",
      "358/358 [==============================] - 33s 92ms/step - loss: 3.3398 - acc: 0.7346 - val_loss: 6.6371 - val_acc: 0.5778\n",
      "Epoch 00005: early stopping\n",
      "Saving model...\n",
      "Model saved\n",
      "Currently at epoch 16 of 20\n",
      "Batch size is 128\n",
      "Training model 5...\n",
      "Train on 358 samples, validate on 90 samples\n",
      "Epoch 1/5\n",
      "358/358 [==============================] - 33s 91ms/step - loss: 3.0424 - acc: 0.7682 - val_loss: 6.7797 - val_acc: 0.5667\n",
      "Epoch 2/5\n",
      "358/358 [==============================] - 31s 88ms/step - loss: 3.2592 - acc: 0.7626 - val_loss: 6.5497 - val_acc: 0.5889\n",
      "Epoch 3/5\n",
      "358/358 [==============================] - 32s 89ms/step - loss: 3.0347 - acc: 0.7542 - val_loss: 6.5835 - val_acc: 0.5778\n",
      "Epoch 4/5\n",
      "358/358 [==============================] - 35s 97ms/step - loss: 3.1250 - acc: 0.7598 - val_loss: 6.6441 - val_acc: 0.5667\n",
      "Epoch 00004: early stopping\n",
      "Saving model...\n",
      "Model saved\n",
      "Completed training\n"
     ]
    }
   ],
   "source": [
    "# train model\n",
    "if config.change_lr:  # reduce_lr callback takes care of everything for us\n",
    "    print('Will reduce learning rate during training, but not batch size')\n",
    "    print('Training model...')\n",
    "    model, history = train_model(model, x_train, y_train,\n",
    "                                 batch_size, max_epochs, callbacks)\n",
    "    val_loss += history.history['val_loss']\n",
    "    val_acc += history.history['val_acc']\n",
    "    loss += history.history['loss']\n",
    "    acc += history.history['acc']\n",
    "    lr += history.history['lr']\n",
    "elif config.change_bs:  # need to manually stop and restart training\n",
    "    print('Will reduce batch size during training, but not learning rate')\n",
    "    # load model with its current weights\n",
    "    model = load_model(os.path.join(log_dir, 'model.hdf5'))\n",
    "    while max_epochs > epoch_iter:\n",
    "        print(f'Currently at epoch {epoch_iter} of {max_epochs}')\n",
    "        print(f'Batch size is {batch_size}')\n",
    "        print(f'Training model {model_iter}...')\n",
    "        epochs = max_epochs - epoch_iter + 1\n",
    "        model, history = train_model(model, x_train, y_train,\n",
    "                                     batch_size, epochs, callbacks)\n",
    "        epoch_iter += len(history.epoch)\n",
    "        val_loss += history.history['val_loss']\n",
    "        val_acc += history.history['val_acc']\n",
    "        loss += history.history['loss']\n",
    "        acc += history.history['acc']\n",
    "        model_iter += 1\n",
    "        batch_size *= batch_size_increase_multiplier\n",
    "        batch_size = batch_size if batch_size < num_train else num_train\n",
    "        save_model(log_dir=log_dir, config=config, model=model)\n",
    "else:\n",
    "    raise Exception(f'[!] Error: config.change_bs and config.change_lr were'\n",
    "                    f'both set to False -- please set one of them to True')\n",
    "print('Completed training')"
   ]
  },
  {
   "cell_type": "code",
   "execution_count": 17,
   "metadata": {},
   "outputs": [
    {
     "name": "stdout",
     "output_type": "stream",
     "text": [
      "Calculating final score...\n",
      "112/112 [==============================] - 3s 29ms/step\n",
      "Final score: [7.0708136558532715, 0.5178571343421936]\n"
     ]
    }
   ],
   "source": [
    "# evaluate model\n",
    "print('Calculating final score...')\n",
    "score = model.evaluate(x_test, y_test, batch_size=batch_size)\n",
    "print('Final score:', score)"
   ]
  },
  {
   "cell_type": "code",
   "execution_count": 18,
   "metadata": {},
   "outputs": [
    {
     "name": "stdout",
     "output_type": "stream",
     "text": [
      "Saving model...\n",
      "Model saved\n",
      "Completed program\n"
     ]
    }
   ],
   "source": [
    "# save finished model\n",
    "save_model(log_dir=log_dir, config=config, model=model)\n",
    "print('Completed program')"
   ]
  },
  {
   "cell_type": "code",
   "execution_count": 19,
   "metadata": {},
   "outputs": [],
   "source": [
    "import matplotlib.pyplot as plt"
   ]
  },
  {
   "cell_type": "code",
   "execution_count": 21,
   "metadata": {},
   "outputs": [
    {
     "data": {
      "image/png": "[encoded data removed]",
      "text/plain": [
       "<matplotlib.figure.Figure at 0x12fb638d0>"
      ]
     },
     "metadata": {},
     "output_type": "display_data"
    }
   ],
   "source": [
    "# summarize history for accuracy\n",
    "plt.plot(acc)\n",
    "plt.plot(val_acc)\n",
    "plt.title('model accuracy')\n",
    "plt.ylabel('accuracy')\n",
    "plt.xlabel('epoch')\n",
    "plt.legend(['train', 'val'], loc='upper left')\n",
    "plt.show()"
   ]
  },
  {
   "cell_type": "code",
   "execution_count": 22,
   "metadata": {},
   "outputs": [
    {
     "data": {
      "image/png": "[encoded data removed]",
      "text/plain": [
       "<matplotlib.figure.Figure at 0x12fd2c0b8>"
      ]
     },
     "metadata": {},
     "output_type": "display_data"
    }
   ],
   "source": [
    "# summarize history for loss\n",
    "plt.plot(loss)\n",
    "plt.plot(val_loss)\n",
    "plt.title('model loss')\n",
    "plt.ylabel('loss')\n",
    "plt.xlabel('epoch')\n",
    "plt.legend(['train', 'val'], loc='upper left')\n",
    "plt.show()"
   ]
  },
  {
   "cell_type": "code",
   "execution_count": 23,
   "metadata": {},
   "outputs": [
    {
     "data": {
      "text/plain": [
       "358"
      ]
     },
     "execution_count": 23,
     "metadata": {},
     "output_type": "execute_result"
    }
   ],
   "source": [
    "int(x_train.shape[0] * 0.8)"
   ]
  },
  {
   "cell_type": "code",
   "execution_count": 24,
   "metadata": {},
   "outputs": [
    {
     "data": {
      "text/plain": [
       "dict_keys(['val_loss', 'val_acc', 'loss', 'acc'])"
      ]
     },
     "execution_count": 24,
     "metadata": {},
     "output_type": "execute_result"
    }
   ],
   "source": [
    "history.history.keys()"
   ]
  },
  {
   "cell_type": "code",
   "execution_count": 25,
   "metadata": {},
   "outputs": [
    {
     "data": {
      "text/plain": [
       "[4.358863470289442,\n",
       " 6.153169886271159,\n",
       " 6.620561430189345,\n",
       " 5.07829508251614,\n",
       " 6.369617218441434,\n",
       " 7.551823520660401,\n",
       " 6.304464160071479,\n",
       " 4.271185217963325,\n",
       " 6.283337042066786,\n",
       " 6.8603268411424425,\n",
       " 6.775761858622233,\n",
       " 6.271294975280762,\n",
       " 6.077858808305528,\n",
       " 6.752355045742458,\n",
       " 6.637114800347222,\n",
       " 6.779670715332031,\n",
       " 6.549660682678223,\n",
       " 6.583470344543457,\n",
       " 6.644146919250488]"
      ]
     },
     "execution_count": 25,
     "metadata": {},
     "output_type": "execute_result"
    }
   ],
   "source": [
    "val_loss"
   ]
  },
  {
   "cell_type": "code",
   "execution_count": 16,
   "metadata": {},
   "outputs": [],
   "source": [
    "if 8>= 9:\n",
    "    print(True)"
   ]
  },
  {
   "cell_type": "code",
   "execution_count": 26,
   "metadata": {},
   "outputs": [
    {
     "name": "stdout",
     "output_type": "stream",
     "text": [
      "[!] Error: config.change_bs and config.change_lr wereboth set to False -- please set one of them to True\n"
     ]
    }
   ],
   "source": [
    "print(f'[!] Error: config.change_bs and config.change_lr were'\n",
    "                        f'both set to False -- please set one of them to True')"
   ]
  },
  {
   "cell_type": "code",
   "execution_count": 1,
   "metadata": {},
   "outputs": [
    {
     "name": "stderr",
     "output_type": "stream",
     "text": [
      "/Library/Frameworks/Python.framework/Versions/3.6/lib/python3.6/site-packages/h5py/__init__.py:36: FutureWarning: Conversion of the second argument of issubdtype from `float` to `np.floating` is deprecated. In future, it will be treated as `np.float64 == np.dtype(float).type`.\n",
      "  from ._conv import register_converters as _register_converters\n",
      "Using TensorFlow backend.\n"
     ]
    }
   ],
   "source": [
    "from main import main"
   ]
  },
  {
   "cell_type": "code",
   "execution_count": 2,
   "metadata": {},
   "outputs": [
    {
     "name": "stdout",
     "output_type": "stream",
     "text": [
      "Beginning program\n",
      "unparsed config options: ['-f', '/Users/Yacalis/Library/Jupyter/runtime/kernel-6355478c-4397-4036-87cc-e5a90e84af01.json']\n",
      "log dir: /Users/Yacalis/Projects/TensorFlow/cs274c-data/logs/0301_170310-changelr_False-changebs_True-batch_var\n",
      "data dir: /Users/Yacalis/Projects/TensorFlow/cs274c-data/\n",
      "image dir: /Users/Yacalis/Projects/TensorFlow/cs274c-data/Pictures/test/\n",
      "callbacks:\n",
      "\t <keras.callbacks.TensorBoard object at 0x120541860>\n",
      "\t <keras.callbacks.ModelCheckpoint object at 0x120556d68>\n",
      "\t <keras.callbacks.History object at 0x120556da0>\n",
      "\t <keras.callbacks.EarlyStopping object at 0x10f439d68>\n",
      "Loading data...\n",
      "data file:  /Users/Yacalis/Projects/TensorFlow/cs274c-data/imdb.mat\n",
      "number of records from data file:  460723\n",
      "image dir:  /Users/Yacalis/Projects/TensorFlow/cs274c-data/Pictures/test/\n",
      "\tsub dirs:\n",
      "\t\t 00\n",
      "shape of x_data:  (560, 228, 228, 3)\n",
      "input dim: (228, 228, 3)\n",
      "len of data: 560\n",
      "Num training examples (excludes test and val): 358\n",
      "Building model...\n",
      "Finished building model\n",
      "Compiling model...\n",
      "_________________________________________________________________\n",
      "Layer (type)                 Output Shape              Param #   \n",
      "=================================================================\n",
      "conv2d_1 (Conv2D)            (None, 56, 56, 96)        14208     \n",
      "_________________________________________________________________\n",
      "max_pooling2d_1 (MaxPooling2 (None, 27, 27, 96)        0         \n",
      "_________________________________________________________________\n",
      "batch_normalization_1 (Batch (None, 27, 27, 96)        384       \n",
      "_________________________________________________________________\n",
      "conv2d_2 (Conv2D)            (None, 23, 23, 256)       614656    \n",
      "_________________________________________________________________\n",
      "max_pooling2d_2 (MaxPooling2 (None, 11, 11, 256)       0         \n",
      "_________________________________________________________________\n",
      "batch_normalization_2 (Batch (None, 11, 11, 256)       1024      \n",
      "_________________________________________________________________\n",
      "conv2d_3 (Conv2D)            (None, 9, 9, 384)         885120    \n",
      "_________________________________________________________________\n",
      "max_pooling2d_3 (MaxPooling2 (None, 4, 4, 384)         0         \n",
      "_________________________________________________________________\n",
      "batch_normalization_3 (Batch (None, 4, 4, 384)         1536      \n",
      "_________________________________________________________________\n",
      "flatten_1 (Flatten)          (None, 6144)              0         \n",
      "_________________________________________________________________\n",
      "dense_1 (Dense)              (None, 512)               3146240   \n",
      "_________________________________________________________________\n",
      "dropout_1 (Dropout)          (None, 512)               0         \n",
      "_________________________________________________________________\n",
      "dense_2 (Dense)              (None, 512)               262656    \n",
      "_________________________________________________________________\n",
      "dropout_2 (Dropout)          (None, 512)               0         \n",
      "_________________________________________________________________\n",
      "dense_3 (Dense)              (None, 2)                 1026      \n",
      "=================================================================\n",
      "Total params: 4,926,850\n",
      "Trainable params: 4,925,378\n",
      "Non-trainable params: 1,472\n",
      "_________________________________________________________________\n",
      "Finished compiling\n",
      "Saving model...\n",
      "Model saved\n",
      "Will reduce batch size during training, but not learning rate\n",
      "Currently at epoch 1 of 20\n",
      "Batch size is 4\n",
      "Train on 358 samples, validate on 90 samples\n",
      "Epoch 1/20\n",
      "358/358 [==============================] - 42s 117ms/step - loss: 4.8233 - acc: 0.5782 - val_loss: 5.8305 - val_acc: 0.6111\n",
      "Epoch 2/20\n",
      "358/358 [==============================] - 42s 117ms/step - loss: 5.9920 - acc: 0.6089 - val_loss: 6.6263 - val_acc: 0.5889\n",
      "Epoch 3/20\n",
      "358/358 [==============================] - 43s 120ms/step - loss: 6.1363 - acc: 0.6117 - val_loss: 6.2623 - val_acc: 0.6000\n",
      "Epoch 4/20\n",
      "358/358 [==============================] - 40s 112ms/step - loss: 6.2152 - acc: 0.6117 - val_loss: 6.4472 - val_acc: 0.6000\n",
      "Epoch 5/20\n",
      "358/358 [==============================] - 39s 109ms/step - loss: 6.4173 - acc: 0.6006 - val_loss: 6.3530 - val_acc: 0.6000\n",
      "Epoch 00005: early stopping\n",
      "Saving model...\n",
      "Model saved\n",
      "Currently at epoch 6 of 20\n",
      "Batch size is 8\n",
      "Train on 358 samples, validate on 90 samples\n",
      "Epoch 1/15\n",
      "358/358 [==============================] - 38s 107ms/step - loss: 7.1034 - acc: 0.5587 - val_loss: 6.7473 - val_acc: 0.5778\n",
      "Epoch 2/15\n",
      "358/358 [==============================] - 38s 105ms/step - loss: 6.3573 - acc: 0.6006 - val_loss: 6.6263 - val_acc: 0.5889\n",
      "Epoch 3/15\n",
      "358/358 [==============================] - 40s 112ms/step - loss: 6.3064 - acc: 0.6061 - val_loss: 6.6263 - val_acc: 0.5889\n",
      "Epoch 4/15\n",
      "358/358 [==============================] - 37s 104ms/step - loss: 6.1682 - acc: 0.6173 - val_loss: 6.6263 - val_acc: 0.5889\n",
      "Epoch 5/15\n",
      "358/358 [==============================] - 37s 103ms/step - loss: 6.2508 - acc: 0.6117 - val_loss: 6.6263 - val_acc: 0.5889\n",
      "\n",
      "Epoch 00005: saving model to /Users/Yacalis/Projects/TensorFlow/cs274c-data/logs/0301_170310-changelr_False-changebs_True-batch_var/chckpt.ep_05-loss_6.63.hdf5\n",
      "Epoch 6/15\n",
      "358/358 [==============================] - 38s 105ms/step - loss: 6.0861 - acc: 0.6201 - val_loss: 6.4472 - val_acc: 0.6000\n",
      "Epoch 7/15\n",
      "358/358 [==============================] - 34s 96ms/step - loss: 6.3067 - acc: 0.6061 - val_loss: 6.6263 - val_acc: 0.5889\n",
      "Epoch 8/15\n",
      "358/358 [==============================] - 37s 102ms/step - loss: 6.2581 - acc: 0.6117 - val_loss: 6.6263 - val_acc: 0.5889\n",
      "Epoch 9/15\n",
      "358/358 [==============================] - 38s 106ms/step - loss: 6.1932 - acc: 0.6145 - val_loss: 6.4021 - val_acc: 0.6000\n",
      "Epoch 10/15\n",
      "358/358 [==============================] - 38s 107ms/step - loss: 6.1446 - acc: 0.6145 - val_loss: 6.6263 - val_acc: 0.5889\n",
      "Epoch 11/15\n",
      "358/358 [==============================] - 38s 105ms/step - loss: 6.2581 - acc: 0.6117 - val_loss: 6.6263 - val_acc: 0.5889\n",
      "Epoch 12/15\n",
      "358/358 [==============================] - 38s 106ms/step - loss: 6.2581 - acc: 0.6117 - val_loss: 6.6263 - val_acc: 0.5889\n",
      "Epoch 13/15\n",
      "358/358 [==============================] - 42s 118ms/step - loss: 6.2581 - acc: 0.6117 - val_loss: 6.6455 - val_acc: 0.5778\n",
      "Epoch 00013: early stopping\n",
      "Saving model...\n",
      "Model saved\n",
      "Currently at epoch 19 of 20\n",
      "Batch size is 16\n",
      "Train on 358 samples, validate on 90 samples\n",
      "Epoch 1/2\n",
      "358/358 [==============================] - 34s 96ms/step - loss: 6.2581 - acc: 0.6117 - val_loss: 6.8054 - val_acc: 0.5778\n",
      "Epoch 2/2\n",
      "358/358 [==============================] - 37s 104ms/step - loss: 6.2581 - acc: 0.6117 - val_loss: 6.8054 - val_acc: 0.5778\n",
      "\n",
      "Epoch 00002: saving model to /Users/Yacalis/Projects/TensorFlow/cs274c-data/logs/0301_170310-changelr_False-changebs_True-batch_var/chckpt.ep_02-loss_6.81.hdf5\n",
      "Saving model...\n",
      "Model saved\n",
      "Total times batch size was increased: 3\n",
      "Completed training\n",
      "Calculating final score...\n",
      "112/112 [==============================] - 4s 35ms/step\n",
      "Final score: [7.195578438895089, 0.5535714285714286]\n",
      "Saving model...\n",
      "Model saved\n",
      "Completed program\n"
     ]
    }
   ],
   "source": [
    "main()"
   ]
  }
 ],
 "metadata": {
  "kernelspec": {
   "display_name": "Python 3",
   "language": "python",
   "name": "python3"
  },
  "language_info": {
   "codemirror_mode": {
    "name": "ipython",
    "version": 3
   },
   "file_extension": ".py",
   "mimetype": "text/x-python",
   "name": "python",
   "nbconvert_exporter": "python",
   "pygments_lexer": "ipython3",
   "version": "3.6.1"
  },
  "latex_envs": {
   "LaTeX_envs_menu_present": true,
   "autoclose": false,
   "autocomplete": true,
   "bibliofile": "biblio.bib",
   "cite_by": "apalike",
   "current_citInitial": 1,
   "eqLabelWithNumbers": true,
   "eqNumInitial": 1,
   "hotkeys": {
    "equation": "Ctrl-E",
    "itemize": "Ctrl-I"
   },
   "labels_anchors": false,
   "latex_user_defs": false,
   "report_style_numbering": false,
   "user_envs_cfg": false
  },
  "varInspector": {
   "cols": {
    "lenName": 16,
    "lenType": 16,
    "lenVar": 40
   },
   "kernels_config": {
    "python": {
     "delete_cmd_postfix": "",
     "delete_cmd_prefix": "del ",
     "library": "var_list.py",
     "varRefreshCmd": "print(var_dic_list())"
    },
    "r": {
     "delete_cmd_postfix": ") ",
     "delete_cmd_prefix": "rm(",
     "library": "var_list.r",
     "varRefreshCmd": "cat(var_dic_list()) "
    }
   },
   "types_to_exclude": [
    "module",
    "function",
    "builtin_function_or_method",
    "instance",
    "_Feature"
   ],
   "window_display": false
  }
 },
 "nbformat": 4,
 "nbformat_minor": 2
}
