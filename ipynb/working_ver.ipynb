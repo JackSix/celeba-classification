{
 "cells": [
  {
   "cell_type": "code",
   "execution_count": 1,
   "metadata": {
    "ExecuteTime": {
     "end_time": "2018-03-09T02:37:47.348758Z",
     "start_time": "2018-03-09T02:37:37.696412Z"
    },
    "code_folding": []
   },
   "outputs": [
    {
     "name": "stderr",
     "output_type": "stream",
     "text": [
      "/Users/Yacalis/.virtualenvs/cs/lib/python3.6/site-packages/h5py/__init__.py:36: FutureWarning: Conversion of the second argument of issubdtype from `float` to `np.floating` is deprecated. In future, it will be treated as `np.float64 == np.dtype(float).type`.\n",
      "  from ._conv import register_converters as _register_converters\n",
      "Using TensorFlow backend.\n"
     ]
    }
   ],
   "source": [
    "# import modules\n",
    "\"\"\"\n",
    "Created on Tue Feb 20 15:10:00 2018\n",
    "\n",
    "@author: Yacalis\n",
    "\"\"\"\n",
    "\n",
    "import os\n",
    "import json\n",
    "import numpy as np\n",
    "from Callbacks import Callbacks\n",
    "from Config import Config\n",
    "from dataLoader import retrieve_data\n",
    "from folder_defs import get_log_dir, get_data_dir, get_train_dir, get_test_dir\n",
    "from train_model import train_model\n",
    "from build_model import build_model\n",
    "from save_model import save_model\n",
    "from get_data_dict import get_data_dict"
   ]
  },
  {
   "cell_type": "code",
   "execution_count": 2,
   "metadata": {
    "ExecuteTime": {
     "end_time": "2018-03-09T02:37:48.652299Z",
     "start_time": "2018-03-09T02:37:48.646165Z"
    }
   },
   "outputs": [
    {
     "name": "stdout",
     "output_type": "stream",
     "text": [
      "Beginning program\n"
     ]
    }
   ],
   "source": [
    "print('Beginning program')"
   ]
  },
  {
   "cell_type": "code",
   "execution_count": 3,
   "metadata": {
    "ExecuteTime": {
     "end_time": "2018-03-09T02:37:51.645313Z",
     "start_time": "2018-03-09T02:37:51.629369Z"
    },
    "code_folding": [
     0
    ]
   },
   "outputs": [
    {
     "name": "stdout",
     "output_type": "stream",
     "text": [
      "unparsed config options: ['-f', '/Users/Yacalis/Library/Jupyter/runtime/kernel-5819be23-c311-4c76-9879-38513f48aeef.json']\n",
      "change lr: True\n",
      "change bs: False\n",
      "max epochs: 20\n"
     ]
    }
   ],
   "source": [
    "# get config\n",
    "config = Config().config\n",
    "print('change lr:', config.change_lr)\n",
    "print('change bs:', config.change_bs)\n",
    "print('max epochs:', config.epochs)\n",
    "if config.change_bs == config.change_lr:\n",
    "    print(f'[!] Whoops: config.change_bs and config.change_lr should be '\n",
    "          f'different bool values, but they are both {config.change_bs} '\n",
    "          f'-- please set one and only one of them to True')"
   ]
  },
  {
   "cell_type": "code",
   "execution_count": 4,
   "metadata": {
    "ExecuteTime": {
     "end_time": "2018-03-09T02:37:53.736899Z",
     "start_time": "2018-03-09T02:37:53.732466Z"
    }
   },
   "outputs": [],
   "source": [
    "#config.change_lr = False\n",
    "#config.change_bs = True"
   ]
  },
  {
   "cell_type": "code",
   "execution_count": 5,
   "metadata": {
    "ExecuteTime": {
     "end_time": "2018-03-09T02:37:55.984899Z",
     "start_time": "2018-03-09T02:37:55.973713Z"
    },
    "code_folding": [
     0
    ]
   },
   "outputs": [
    {
     "name": "stdout",
     "output_type": "stream",
     "text": [
      "log dir: /Users/Yacalis/Projects/TensorFlow/cs274c-data/logs/0308_1837-clr-bs_4-v_complex\n",
      "data dir: /Users/Yacalis/Projects/TensorFlow/cs274c-data/\n",
      "train dir: /Users/Yacalis/Projects/TensorFlow/cs274c-data/test_images/train/\n",
      "test dir: /Users/Yacalis/Projects/TensorFlow/cs274c-data/test_images/test/\n"
     ]
    }
   ],
   "source": [
    "# get directories\n",
    "log_dir = get_log_dir(config)\n",
    "data_dir = get_data_dir()\n",
    "train_dir = get_train_dir()\n",
    "test_dir = get_test_dir()\n",
    "print('log dir:', log_dir)\n",
    "print('data dir:', data_dir)\n",
    "print('train dir:', train_dir)\n",
    "print('test dir:', test_dir)"
   ]
  },
  {
   "cell_type": "code",
   "execution_count": 6,
   "metadata": {
    "ExecuteTime": {
     "end_time": "2018-03-09T02:38:28.334351Z",
     "start_time": "2018-03-09T02:38:01.196315Z"
    },
    "code_folding": []
   },
   "outputs": [
    {
     "name": "stdout",
     "output_type": "stream",
     "text": [
      "Loading data...\n",
      "data file:  /Users/Yacalis/Projects/TensorFlow/cs274c-data/imdb.mat\n",
      "number of records from data file:  460723\n"
     ]
    }
   ],
   "source": [
    "# get data\n",
    "print('Loading data...')\n",
    "data_dict = get_data_dict(data_dir)"
   ]
  },
  {
   "cell_type": "code",
   "execution_count": 7,
   "metadata": {
    "ExecuteTime": {
     "end_time": "2018-03-09T02:38:35.198399Z",
     "start_time": "2018-03-09T02:38:33.460823Z"
    }
   },
   "outputs": [
    {
     "name": "stdout",
     "output_type": "stream",
     "text": [
      "image dir:  /Users/Yacalis/Projects/TensorFlow/cs274c-data/test_images/test/\n",
      "\tsub dirs:\n",
      "\t\t 00\n",
      "\t\t 01\n",
      "\t\t 02\n",
      "\t\t 03\n",
      "\t\t 04\n",
      "\t\t 05\n",
      "shape of x_data:  (295, 228, 228, 3)\n"
     ]
    }
   ],
   "source": [
    "x_data, y_data = retrieve_data(data_dict=data_dict, image_dir=test_dir)"
   ]
  },
  {
   "cell_type": "code",
   "execution_count": 10,
   "metadata": {
    "ExecuteTime": {
     "end_time": "2018-03-09T02:40:17.767707Z",
     "start_time": "2018-03-09T02:40:17.717113Z"
    }
   },
   "outputs": [
    {
     "data": {
      "text/plain": [
       "array([128, 167])"
      ]
     },
     "execution_count": 10,
     "metadata": {},
     "output_type": "execute_result"
    }
   ],
   "source": [
    "y_data.sum(axis=0)"
   ]
  },
  {
   "cell_type": "code",
   "execution_count": 20,
   "metadata": {
    "ExecuteTime": {
     "end_time": "2018-03-09T02:42:47.184562Z",
     "start_time": "2018-03-09T02:42:47.177189Z"
    }
   },
   "outputs": [
    {
     "data": {
      "text/plain": [
       "43.389830508474574"
      ]
     },
     "execution_count": 20,
     "metadata": {},
     "output_type": "execute_result"
    }
   ],
   "source": [
    "x = 128/(128+167) * 100\n",
    "x"
   ]
  },
  {
   "cell_type": "code",
   "execution_count": 19,
   "metadata": {
    "ExecuteTime": {
     "end_time": "2018-03-09T02:42:21.387945Z",
     "start_time": "2018-03-09T02:42:21.383051Z"
    }
   },
   "outputs": [
    {
     "name": "stdout",
     "output_type": "stream",
     "text": [
      "female: 43, male: 56\n"
     ]
    }
   ],
   "source": [
    "print(f\"female: {int(x)}, male: {int(100 - x)}\")"
   ]
  },
  {
   "cell_type": "code",
   "execution_count": 6,
   "metadata": {
    "ExecuteTime": {
     "end_time": "2018-03-08T23:19:47.524482Z",
     "start_time": "2018-03-08T23:18:57.301472Z"
    },
    "code_folding": []
   },
   "outputs": [
    {
     "name": "stdout",
     "output_type": "stream",
     "text": [
      "Loading data...\n",
      "data file:  /Users/Yacalis/Projects/TensorFlow/cs274c-data/imdb.mat\n",
      "number of records from data file:  460723\n",
      "image dir:  /Users/Yacalis/Projects/TensorFlow/cs274c-data/test_images/train/\n",
      "\tsub dirs:\n",
      "\t\t 00\n",
      "\t\t 01\n",
      "\t\t 02\n",
      "\t\t 03\n",
      "\t\t 04\n",
      "\t\t 05\n",
      "shape of x_data:  (4229, 228, 228, 3)\n",
      "Num training examples (excludes test and val): 3383\n"
     ]
    }
   ],
   "source": [
    "x_data, y_data = retrieve_data(data_dict=data_dict, image_dir=train_dir)\n",
    "num_train = int(x_data.shape[0] * 0.8)\n",
    "print(f'Num training examples (excludes test and val): {num_train}')"
   ]
  },
  {
   "cell_type": "code",
   "execution_count": 6,
   "metadata": {
    "ExecuteTime": {
     "end_time": "2018-03-07T23:29:32.177479Z",
     "start_time": "2018-03-07T23:29:28.695928Z"
    },
    "code_folding": []
   },
   "outputs": [
    {
     "name": "stdout",
     "output_type": "stream",
     "text": [
      "Building model...\n",
      "Finished building model\n",
      "Compiling model...\n",
      "Finished compiling\n",
      "_________________________________________________________________\n",
      "Layer (type)                 Output Shape              Param #   \n",
      "=================================================================\n",
      "conv2d_1 (Conv2D)            (None, 56, 56, 96)        14208     \n",
      "_________________________________________________________________\n",
      "max_pooling2d_1 (MaxPooling2 (None, 27, 27, 96)        0         \n",
      "_________________________________________________________________\n",
      "batch_normalization_1 (Batch (None, 27, 27, 96)        384       \n",
      "_________________________________________________________________\n",
      "conv2d_2 (Conv2D)            (None, 23, 23, 256)       614656    \n",
      "_________________________________________________________________\n",
      "max_pooling2d_2 (MaxPooling2 (None, 11, 11, 256)       0         \n",
      "_________________________________________________________________\n",
      "batch_normalization_2 (Batch (None, 11, 11, 256)       1024      \n",
      "_________________________________________________________________\n",
      "conv2d_3 (Conv2D)            (None, 9, 9, 384)         885120    \n",
      "_________________________________________________________________\n",
      "max_pooling2d_3 (MaxPooling2 (None, 4, 4, 384)         0         \n",
      "_________________________________________________________________\n",
      "batch_normalization_3 (Batch (None, 4, 4, 384)         1536      \n",
      "_________________________________________________________________\n",
      "flatten_1 (Flatten)          (None, 6144)              0         \n",
      "_________________________________________________________________\n",
      "dense_1 (Dense)              (None, 512)               3146240   \n",
      "_________________________________________________________________\n",
      "dropout_1 (Dropout)          (None, 512)               0         \n",
      "_________________________________________________________________\n",
      "dense_2 (Dense)              (None, 512)               262656    \n",
      "_________________________________________________________________\n",
      "dropout_2 (Dropout)          (None, 512)               0         \n",
      "_________________________________________________________________\n",
      "dense_3 (Dense)              (None, 2)                 1026      \n",
      "=================================================================\n",
      "Total params: 4,926,850\n",
      "Trainable params: 4,925,378\n",
      "Non-trainable params: 1,472\n",
      "_________________________________________________________________\n",
      "Saving model...\n",
      "Model saved\n"
     ]
    }
   ],
   "source": [
    "# build and save initial model\n",
    "input_dim = x_data[0].shape\n",
    "model = build_model(input_dim, config, model_type=config.complexity)\n",
    "save_model(log_dir=log_dir, config=config, model=model)"
   ]
  },
  {
   "cell_type": "code",
   "execution_count": 7,
   "metadata": {
    "ExecuteTime": {
     "end_time": "2018-03-07T23:29:32.481352Z",
     "start_time": "2018-03-07T23:29:32.470016Z"
    },
    "code_folding": [
     0
    ]
   },
   "outputs": [],
   "source": [
    "# set variables\n",
    "val_loss = []\n",
    "val_acc = []\n",
    "loss = []\n",
    "acc = []\n",
    "lr = []\n",
    "bs = []\n",
    "max_epochs = config.epochs\n",
    "batch_size = config.batch_size\n",
    "batch_size_mult = 2\n",
    "epoch_iter = 1"
   ]
  },
  {
   "cell_type": "code",
   "execution_count": 8,
   "metadata": {
    "ExecuteTime": {
     "end_time": "2018-03-07T23:29:37.174793Z",
     "start_time": "2018-03-07T23:29:32.769902Z"
    },
    "code_folding": [
     0
    ]
   },
   "outputs": [
    {
     "name": "stdout",
     "output_type": "stream",
     "text": [
      "callbacks:\n",
      "\t <keras.callbacks.TensorBoard object at 0x1201e9ef0>\n",
      "\t <keras.callbacks.ModelCheckpoint object at 0x1201e99b0>\n",
      "\t <keras.callbacks.History object at 0x1201e9940>\n",
      "\t <keras.callbacks.EarlyStopping object at 0x1201e9fd0>\n",
      "\t <keras.callbacks.ReduceLROnPlateau object at 0x1201e9f60>\n"
     ]
    }
   ],
   "source": [
    "# get callbacks\n",
    "callbacks = Callbacks(config, log_dir).callbacks\n",
    "print('callbacks:')\n",
    "for callback in callbacks:\n",
    "    print('\\t', callback)"
   ]
  },
  {
   "cell_type": "code",
   "execution_count": null,
   "metadata": {
    "ExecuteTime": {
     "start_time": "2018-03-07T23:33:55.533Z"
    },
    "code_folding": []
   },
   "outputs": [
    {
     "name": "stdout",
     "output_type": "stream",
     "text": [
      "Will reduce learning rate during training, but not batch size\n",
      "Training model...\n",
      "Train on 3383 samples, validate on 846 samples\n",
      "Epoch 1/20\n",
      "1412/3383 [===========>..................] - ETA: 3:25 - loss: 6.8910 - acc: 0.5659"
     ]
    }
   ],
   "source": [
    "# train model\n",
    "if config.change_lr:  # reduce_lr callback takes care of everything for us\n",
    "    print('Will reduce learning rate during training, but not batch size')\n",
    "    print('Training model...')\n",
    "    model, history = train_model(model, x_data, y_data, batch_size, max_epochs, callbacks)\n",
    "\n",
    "    # store history (bs is constant)\n",
    "    val_loss += history.history['val_loss']\n",
    "    val_acc += history.history['val_acc']\n",
    "    loss += history.history['loss']\n",
    "    acc += history.history['acc']\n",
    "    lr += history.history['lr']\n",
    "    bs = [batch_size for i in range(len(lr))]\n",
    "\n",
    "elif config.change_bs:  # need to manually stop and restart training\n",
    "    print('Will reduce batch size during training, but not learning rate')\n",
    "    while max_epochs >= epoch_iter:\n",
    "        print(f'Currently at epoch {epoch_iter} of {max_epochs}, batch size is {batch_size}')\n",
    "        epochs = max_epochs - epoch_iter + 1\n",
    "        model, history = train_model(model, x_data, y_data, batch_size, epochs, callbacks)\n",
    "\n",
    "        # store history\n",
    "        val_loss += history.history['val_loss']\n",
    "        val_acc += history.history['val_acc']\n",
    "        loss += history.history['loss']\n",
    "        acc += history.history['acc']\n",
    "        bs += [batch_size for i in range(len(history.epoch))]\n",
    "\n",
    "        # update training parameters\n",
    "        epoch_iter += len(history.epoch)\n",
    "        batch_size *= batch_size_mult\n",
    "        batch_size = batch_size if batch_size < num_train else num_train\n",
    "\n",
    "    # store lr history as constant\n",
    "    lr = [0.001 for i in range(len(bs))]\n",
    "\n",
    "else:  # this should never happen\n",
    "    print(f'[!] Whoops: config.change_bs and config.change_lr are both '\n",
    "          f'set to False - please set one of them to True')\n",
    "\n",
    "print('Completed training')"
   ]
  },
  {
   "cell_type": "code",
   "execution_count": 10,
   "metadata": {
    "ExecuteTime": {
     "end_time": "2018-03-07T02:05:47.914982Z",
     "start_time": "2018-03-07T02:05:44.968669Z"
    },
    "code_folding": [
     0
    ]
   },
   "outputs": [
    {
     "name": "stdout",
     "output_type": "stream",
     "text": [
      "Saving model...\n",
      "Model saved\n"
     ]
    }
   ],
   "source": [
    "# save finished model\n",
    "save_model(log_dir=log_dir, config=config, model=model)"
   ]
  },
  {
   "cell_type": "code",
   "execution_count": 11,
   "metadata": {
    "ExecuteTime": {
     "end_time": "2018-03-07T02:05:47.973616Z",
     "start_time": "2018-03-07T02:05:47.918941Z"
    },
    "code_folding": []
   },
   "outputs": [],
   "source": [
    "# save loss, accuracy, lr, and bs values across epochs as json\n",
    "acc_loss_lr_bs = {'val_loss': val_loss,\n",
    "                  'val_acc': val_acc,\n",
    "                  'loss': loss,\n",
    "                  'acc': acc,\n",
    "                  'lr': [np.float64(i) for i in lr],\n",
    "                  'bs': bs\n",
    "                  }\n",
    "acc_loss_lr_bs_path = os.path.join(log_dir, 'acc_loss_lr_bs.json')\n",
    "with open(acc_loss_lr_bs_path, 'w') as f:\n",
    "    json.dump(acc_loss_lr_bs, f, indent=4, sort_keys=True)"
   ]
  },
  {
   "cell_type": "code",
   "execution_count": 12,
   "metadata": {
    "ExecuteTime": {
     "end_time": "2018-03-07T02:05:58.017253Z",
     "start_time": "2018-03-07T02:05:47.976723Z"
    },
    "code_folding": []
   },
   "outputs": [
    {
     "name": "stdout",
     "output_type": "stream",
     "text": [
      "Calculating final score...\n",
      "image dir:  /Users/Yacalis/Projects/TensorFlow/cs274c-data/test_images/val/\n",
      "\tsub dirs:\n",
      "\t\t 00\n",
      "\t\t 01\n",
      "\t\t 02\n",
      "\t\t 03\n",
      "\t\t 04\n",
      "\t\t 05\n",
      "shape of x_data:  (295, 228, 228, 3)\n",
      "295/295 [==============================] - 8s 27ms/step\n",
      "Final score: [6.9554936000224155, 0.5661016951173039]\n"
     ]
    }
   ],
   "source": [
    "# evaluate model\n",
    "print('Calculating final score...')\n",
    "x_data, y_data = retrieve_data(data_dict=data_dict, image_dir=test_dir)\n",
    "score = model.evaluate(x_data, y_data, batch_size=batch_size)\n",
    "print('Final score:', score)"
   ]
  },
  {
   "cell_type": "code",
   "execution_count": 13,
   "metadata": {
    "ExecuteTime": {
     "end_time": "2018-03-07T02:05:58.026864Z",
     "start_time": "2018-03-07T02:05:58.020787Z"
    }
   },
   "outputs": [
    {
     "name": "stdout",
     "output_type": "stream",
     "text": [
      "Completed program\n"
     ]
    }
   ],
   "source": [
    "print('Completed program')"
   ]
  },
  {
   "cell_type": "code",
   "execution_count": 14,
   "metadata": {
    "ExecuteTime": {
     "end_time": "2018-03-07T02:05:58.844685Z",
     "start_time": "2018-03-07T02:05:58.030799Z"
    },
    "code_folding": []
   },
   "outputs": [],
   "source": [
    "# PLOTTING FOR TESTING\n",
    "import matplotlib.pyplot as plt"
   ]
  },
  {
   "cell_type": "code",
   "execution_count": 15,
   "metadata": {
    "ExecuteTime": {
     "end_time": "2018-03-07T02:05:58.854054Z",
     "start_time": "2018-03-07T02:05:58.847384Z"
    },
    "code_folding": []
   },
   "outputs": [],
   "source": [
    "# load dict from json\n",
    "d = None\n",
    "with open(acc_loss_lr_bs_path, 'r') as f:\n",
    "    d = json.load(f)"
   ]
  },
  {
   "cell_type": "code",
   "execution_count": 16,
   "metadata": {
    "ExecuteTime": {
     "end_time": "2018-03-07T02:05:59.949336Z",
     "start_time": "2018-03-07T02:05:58.857979Z"
    },
    "code_folding": []
   },
   "outputs": [
    {
     "data": {
      "image/png": "[encoded data removed]",
      "text/plain": [
       "<matplotlib.figure.Figure at 0x129827f60>"
      ]
     },
     "metadata": {},
     "output_type": "display_data"
    }
   ],
   "source": [
    "# plot dict values\n",
    "plt.figure(figsize=(20,10))\n",
    "\n",
    "# summarize history for accuracy\n",
    "plt.subplot(2, 2, 1)\n",
    "plt.plot(d['acc'])\n",
    "plt.plot(d['val_acc'])\n",
    "plt.title('model accuracy')\n",
    "plt.ylabel('accuracy')\n",
    "plt.xlabel('epoch')\n",
    "plt.legend(['train', 'val'], loc='upper left')\n",
    "\n",
    "# summarize history for loss\n",
    "plt.subplot(2, 2, 2)\n",
    "plt.plot(d['loss'])\n",
    "plt.plot(d['val_loss'])\n",
    "plt.title('model loss')\n",
    "plt.ylabel('loss')\n",
    "plt.xlabel('epoch')\n",
    "plt.legend(['train', 'val'], loc='upper left')\n",
    "\n",
    "# summarize history for lr\n",
    "plt.subplot(2, 2, 3)\n",
    "plt.plot(d['lr'])\n",
    "plt.title('model lr')\n",
    "plt.ylabel('lr')\n",
    "plt.xlabel('epoch')\n",
    "plt.legend(['lr'], loc='upper left')\n",
    "\n",
    "# summarize history for bs\n",
    "plt.subplot(2, 2, 4)\n",
    "plt.plot(d['bs'])\n",
    "plt.title('model bs')\n",
    "plt.ylabel('bs')\n",
    "plt.xlabel('epoch')\n",
    "plt.legend(['bs'], loc='upper left')\n",
    "\n",
    "plt.show()"
   ]
  },
  {
   "cell_type": "code",
   "execution_count": 1,
   "metadata": {
    "ExecuteTime": {
     "end_time": "2018-03-10T00:39:57.429560Z",
     "start_time": "2018-03-10T00:39:56.963118Z"
    }
   },
   "outputs": [],
   "source": [
    "from get_data_dict import get_new_data_dict\n",
    "from dataLoader import retrieve_data\n",
    "from folder_defs import get_data_dir, get_train_dir, get_test_dir"
   ]
  },
  {
   "cell_type": "code",
   "execution_count": 2,
   "metadata": {
    "ExecuteTime": {
     "end_time": "2018-03-10T00:39:57.595734Z",
     "start_time": "2018-03-10T00:39:57.587093Z"
    }
   },
   "outputs": [
    {
     "name": "stdout",
     "output_type": "stream",
     "text": [
      "/Users/Yacalis/Projects/TensorFlow/cs274c-data/\n",
      "/Users/Yacalis/Projects/TensorFlow/cs274c-project/test_images/new_train/\n",
      "/Users/Yacalis/Projects/TensorFlow/cs274c-project/test_images/new_test/\n"
     ]
    }
   ],
   "source": [
    "data_dir = get_data_dir()\n",
    "train_dir = get_train_dir()\n",
    "test_dir = get_test_dir()\n",
    "print(data_dir, train_dir, test_dir, sep='\\n')"
   ]
  },
  {
   "cell_type": "code",
   "execution_count": 3,
   "metadata": {
    "ExecuteTime": {
     "end_time": "2018-03-10T00:39:58.540358Z",
     "start_time": "2018-03-10T00:39:58.530118Z"
    }
   },
   "outputs": [
    {
     "name": "stdout",
     "output_type": "stream",
     "text": [
      "data file:  /Users/Yacalis/Projects/TensorFlow/cs274c-data/new_testing_data.csv\n",
      "number of records from data file:  648\n"
     ]
    }
   ],
   "source": [
    "data_dict = get_new_data_dict(data_dir)"
   ]
  },
  {
   "cell_type": "code",
   "execution_count": 4,
   "metadata": {
    "ExecuteTime": {
     "end_time": "2018-03-10T00:40:03.177722Z",
     "start_time": "2018-03-10T00:40:03.139163Z"
    }
   },
   "outputs": [
    {
     "data": {
      "text/plain": [
       "{'00/nm0000100_rm1002674432_1955-1-6_2003.jpg': 1,\n",
       " '00/nm0000100_rm1019451648_1955-1-6_2003.jpg': 1,\n",
       " '00/nm0000100_rm1129814016_1955-1-6_2007.jpg': 1,\n",
       " '00/nm0000100_rm1247254528_1955-1-6_2007.jpg': 1,\n",
       " '00/nm0000100_rm230922496_1955-1-6_2003.jpg': 1,\n",
       " '00/nm0000100_rm3003101696_1955-1-6_2011.jpg': 1,\n",
       " '00/nm0000100_rm341607680_1955-1-6_1994.jpg': 1,\n",
       " '00/nm0000100_rm3822295296_1955-1-6_2003.jpg': 1,\n",
       " '00/nm0000100_rm862094592_1955-1-6_2011.jpg': 1,\n",
       " '00/nm0000100_rm984792064_1955-1-6_2011.jpg': 1,\n",
       " '00/nm0000200_rm1060673536_1955-5-17_2006.jpg': 1,\n",
       " '00/nm0000200_rm1308089088_1955-5-17_2013.jpg': 1,\n",
       " '00/nm0000200_rm1309194496_1955-5-17_1995.jpg': 1,\n",
       " '00/nm0000200_rm1359714304_1955-5-17_2004.jpg': 1,\n",
       " '00/nm0000200_rm1472103680_1955-5-17_2006.jpg': 0,\n",
       " '00/nm0000200_rm1754635008_1955-5-17_2003.jpg': 1,\n",
       " '00/nm0000200_rm206805504_1955-5-17_1996.jpg': 1,\n",
       " '00/nm0000200_rm2186910208_1955-5-17_2000.jpg': 1,\n",
       " '00/nm0000200_rm2315622912_1955-5-17_2005.jpg': 1,\n",
       " '00/nm0000200_rm2556136960_1955-5-17_2009.jpg': 1,\n",
       " '00/nm0000200_rm2780726528_1955-5-17_2006.jpg': 0,\n",
       " '00/nm0000200_rm2838346240_1955-5-17_2006.jpg': 1,\n",
       " '00/nm0000200_rm2888677888_1955-5-17_2006.jpg': 1,\n",
       " '00/nm0000200_rm3065939200_1955-5-17_2006.jpg': 1,\n",
       " '00/nm0000200_rm3076508416_1955-5-17_2013.jpg': 1,\n",
       " '00/nm0000200_rm3214277376_1955-5-17_2014.jpg': 1,\n",
       " '00/nm0000200_rm3351829248_1955-5-17_2014.jpg': 1,\n",
       " '00/nm0000200_rm3408762880_1955-5-17_2001.jpg': 1,\n",
       " '00/nm0000200_rm3444414976_1955-5-17_1997.jpg': 0,\n",
       " '00/nm0000200_rm3576535040_1955-5-17_2001.jpg': 1,\n",
       " '00/nm0000200_rm3785871104_1955-5-17_2014.jpg': 1,\n",
       " '00/nm0000200_rm3850033920_1955-5-17_2013.jpg': 1,\n",
       " '00/nm0000200_rm4157135616_1955-5-17_2014.jpg': 1,\n",
       " '00/nm0000200_rm4228896512_1955-5-17_1989.jpg': 1,\n",
       " '00/nm0000200_rm4241021696_1955-5-17_2014.jpg': 1,\n",
       " '00/nm0000200_rm540133376_1955-5-17_2013.jpg': 1,\n",
       " '00/nm0000200_rm635755264_1955-5-17_2013.jpg': 1,\n",
       " '00/nm0000200_rm658742016_1955-5-17_1998.jpg': 1,\n",
       " '00/nm0000200_rm674797568_1955-5-17_2006.jpg': 1,\n",
       " '00/nm0000200_rm771005184_1955-5-17_2007.jpg': 1,\n",
       " '00/nm0000300_rm1145215744_1964-3-9_2007.jpg': 0,\n",
       " '00/nm0000300_rm1196883200_1964-3-9_2015.jpg': 0,\n",
       " '00/nm0000300_rm1354223360_1964-3-9_2014.jpg': 0,\n",
       " '00/nm0000300_rm1605881600_1964-3-9_2014.jpg': 0,\n",
       " '00/nm0000300_rm1732549120_1964-3-9_2002.jpg': 0,\n",
       " '00/nm0000300_rm1791662080_1964-3-9_2007.jpg': 0,\n",
       " '00/nm0000300_rm2641992192_1964-3-9_2006.jpg': 0,\n",
       " '00/nm0000300_rm270372352_1964-3-9_2008.jpg': 0,\n",
       " '00/nm0000300_rm3293879040_1964-3-9_2006.jpg': 0,\n",
       " '00/nm0000300_rm3311436288_1964-3-9_2010.jpg': 0,\n",
       " '00/nm0000300_rm3317157632_1964-3-9_2014.jpg': 0,\n",
       " '00/nm0000300_rm3344210688_1964-3-9_2006.jpg': 0,\n",
       " '00/nm0000300_rm3625694208_1964-3-9_2012.jpg': 0,\n",
       " '00/nm0000300_rm3801586432_1964-3-9_2006.jpg': 0,\n",
       " '00/nm0000300_rm3986135808_1964-3-9_2006.jpg': 0,\n",
       " '00/nm0000300_rm4002913024_1964-3-9_2006.jpg': 0,\n",
       " '00/nm0000300_rm4019690240_1964-3-9_2006.jpg': 0,\n",
       " '00/nm0000300_rm4060001280_1964-3-9_2011.jpg': 0,\n",
       " '00/nm0000300_rm4206350080_1964-3-9_2014.jpg': 0,\n",
       " '00/nm0000300_rm4283013632_1964-3-9_1997.jpg': 0,\n",
       " '00/nm0000300_rm4290236160_1964-3-9_2014.jpg': 0,\n",
       " '00/nm0000300_rm457480704_1964-3-9_2002.jpg': 1,\n",
       " '00/nm0000300_rm82090240_1964-3-9_2005.jpg': 1,\n",
       " '00/nm0000400_rm3073030912_1958-3-9_1996.jpg': 1,\n",
       " '00/nm0000400_rm3173694208_1958-3-9_1996.jpg': 0,\n",
       " '00/nm0000500_rm101383936_1960-7-30_2015.jpg': 1,\n",
       " '00/nm0000500_rm1317581824_1960-7-30_2011.jpg': 1,\n",
       " '00/nm0000500_rm1334359040_1960-7-30_2011.jpg': 0,\n",
       " '00/nm0000500_rm1716111872_1960-7-30_2014.jpg': 1,\n",
       " '00/nm0000500_rm1773770752_1960-7-30_2005.jpg': 1,\n",
       " '00/nm0000500_rm2623651328_1960-7-30_2011.jpg': 0,\n",
       " '00/nm0000500_rm2664667392_1960-7-30_2006.jpg': 1,\n",
       " '00/nm0000500_rm314545152_1960-7-30_2008.jpg': 1,\n",
       " '00/nm0000500_rm3192192768_1960-7-30_2014.jpg': 1,\n",
       " '00/nm0000500_rm3208969984_1960-7-30_2014.jpg': 1,\n",
       " '00/nm0000500_rm3409379072_1960-7-30_2015.jpg': 1,\n",
       " '00/nm0000500_rm3453855232_1960-7-30_2013.jpg': 1,\n",
       " '00/nm0000500_rm3583544832_1960-7-30_2008.jpg': 1,\n",
       " '00/nm0000500_rm3588072960_1960-7-30_2013.jpg': 1,\n",
       " '00/nm0000500_rm3624530432_1960-7-30_2015.jpg': 1,\n",
       " '00/nm0000500_rm3793409536_1960-7-30_2014.jpg': 0,\n",
       " '00/nm0000500_rm3901276672_1960-7-30_2013.jpg': 1,\n",
       " '00/nm0000500_rm3977958912_1960-7-30_2014.jpg': 1,\n",
       " '00/nm0000500_rm4136157696_1960-7-30_2013.jpg': 1,\n",
       " '00/nm0000500_rm707435264_1960-7-30_2001.jpg': 1,\n",
       " '00/nm0000500_rm925539072_1960-7-30_2001.jpg': 1,\n",
       " '00/nm0000600_rm1602001152_1959-10-23_2004.jpg': 1,\n",
       " '00/nm0000600_rm2273089792_1959-10-23_2004.jpg': 1,\n",
       " '00/nm0000600_rm3181484032_1959-10-23_2004.jpg': 1,\n",
       " '00/nm0000600_rm383363840_1959-10-23_2013.jpg': 1,\n",
       " '00/nm0000600_rm4041190144_1959-10-23_2013.jpg': 1,\n",
       " '00/nm0000600_rm534358784_1959-10-23_2013.jpg': 1,\n",
       " '00/nm0000700_rm1024820480_1955-5-16_1990.jpg': 0,\n",
       " '00/nm0000700_rm1760134912_1955-5-16_2008.jpg': 0,\n",
       " '00/nm0000700_rm3248667392_1955-5-16_2011.jpg': 0,\n",
       " '00/nm0000700_rm388536832_1955-5-16_2001.jpg': 0,\n",
       " '00/nm0000700_rm3977812736_1955-5-16_2001.jpg': 0,\n",
       " '00/nm0000700_rm406845440_1955-5-16_2014.jpg': 0,\n",
       " '00/nm0000700_rm85296384_1955-5-16_1990.jpg': 0,\n",
       " '00/nm0000800_rm1939315200_1949-10-4_2000.jpg': 1,\n",
       " '00/nm0000800_rm1956092416_1949-10-4_2000.jpg': 1,\n",
       " '00/nm0000800_rm2302903808_1949-10-4_2007.jpg': 1,\n",
       " '00/nm0000800_rm643471104_1949-10-4_2009.jpg': 1,\n",
       " '00/nm0001100_rm1290713600_1943-2-3_2010.jpg': 0,\n",
       " '00/nm0001100_rm1391376896_1943-2-3_2010.jpg': 0,\n",
       " '00/nm0001100_rm1424931328_1943-2-3_2010.jpg': 0,\n",
       " '00/nm0001100_rm1479383808_1943-2-3_2007.jpg': 0,\n",
       " '00/nm0001100_rm1485865984_1943-2-3_2010.jpg': 0,\n",
       " '00/nm0001100_rm1674228736_1943-2-3_2012.jpg': 0,\n",
       " '00/nm0001100_rm1734457088_1943-2-3_2012.jpg': 0,\n",
       " '00/nm0001100_rm1850246144_1943-2-3_2010.jpg': 0,\n",
       " '00/nm0001100_rm1951958272_1943-2-3_1976.jpg': 1,\n",
       " '00/nm0001100_rm1994849536_1943-2-3_2015.jpg': 0,\n",
       " '00/nm0001100_rm2139536896_1943-2-3_2011.jpg': 0,\n",
       " '00/nm0001100_rm2190052096_1943-2-3_2008.jpg': 0,\n",
       " '00/nm0001100_rm2204801792_1943-2-3_1999.jpg': 0,\n",
       " '00/nm0001100_rm2308738304_1943-2-3_2004.jpg': 0,\n",
       " '00/nm0001100_rm2334823936_1943-2-3_2007.jpg': 0,\n",
       " '00/nm0001100_rm2442181376_1943-2-3_2011.jpg': 0,\n",
       " '00/nm0001100_rm345804032_1943-2-3_2004.jpg': 1,\n",
       " '00/nm0001100_rm4171205376_1943-2-3_2008.jpg': 0,\n",
       " '00/nm0001100_rm446467328_1943-2-3_2004.jpg': 0,\n",
       " '00/nm0001100_rm566330368_1943-2-3_2011.jpg': 1,\n",
       " '00/nm0001200_rm1056174336_1953-6-12_2014.jpg': 1,\n",
       " '00/nm0001400_rm4127491072_1965-9-9_1984.jpg': 0,\n",
       " '00/nm0001500_rm1231407104_1912-3-22_1972.jpg': 1,\n",
       " '00/nm0001500_rm1281738752_1912-3-22_1972.jpg': 1,\n",
       " '00/nm0001500_rm1415956480_1912-3-22_1972.jpg': 1,\n",
       " '00/nm0001600_rm3614226944_1959-5-29_1988.jpg': 1,\n",
       " '00/nm0001700_rm846572032_1959-7-23_2011.jpg': 0,\n",
       " '00/nm0001700_rm863349248_1959-7-23_2011.jpg': 1,\n",
       " '00/nm0001800_rm3332740864_1931-2-6_2008.jpg': 1,\n",
       " '00/nm0001800_rm515998976_1931-2-6_1995.jpg': 1,\n",
       " '00/nm0002100_rm1227981312_1975-6-18_2005.jpg': 0,\n",
       " '00/nm0002100_rm1831961088_1975-6-18_2005.jpg': 0,\n",
       " '00/nm0002100_rm2866055168_1975-6-18_2009.jpg': 0,\n",
       " '00/nm0002100_rm2899609600_1975-6-18_2009.jpg': 0,\n",
       " '00/nm0002100_rm985837568_1975-6-18_2011.jpg': 0,\n",
       " '00/nm0002700_rm1831457280_1970-1-11_2013.jpg': 1,\n",
       " '00/nm0002700_rm247246848_1970-1-11_2008.jpg': 1,\n",
       " '00/nm0002700_rm3663700224_1970-1-11_2013.jpg': 1,\n",
       " '00/nm0002700_rm414423808_1970-1-11_2008.jpg': 1,\n",
       " '00/nm0004700_rm1692387584_1979-1-24_1990.jpg': 0,\n",
       " '00/nm0004700_rm2095040768_1979-1-24_1990.jpg': 1,\n",
       " '00/nm0004700_rm2715797760_1979-1-24_1990.jpg': 0,\n",
       " '00/nm0004700_rm2850015488_1979-1-24_1990.jpg': 1,\n",
       " '00/nm0004700_rm2933901568_1979-1-24_1990.jpg': 0,\n",
       " '00/nm0004700_rm350210304_1979-1-24_1990.jpg': 0,\n",
       " '00/nm0004700_rm494511616_1979-1-24_2011.jpg': 0,\n",
       " '00/nm0004800_rm1061788416_1976-8-9_2000.jpg': 0,\n",
       " '00/nm0004800_rm1251987456_1976-8-9_2005.jpg': 0,\n",
       " '00/nm0004800_rm1425385216_1976-8-9_2005.jpg': 0,\n",
       " '00/nm0004800_rm2105982464_1976-8-9_2011.jpg': 0,\n",
       " '00/nm0004800_rm2242749952_1976-8-9_2005.jpg': 0,\n",
       " '00/nm0004800_rm2791295744_1976-8-9_2005.jpg': 0,\n",
       " '00/nm0004800_rm2841769984_1976-8-9_2005.jpg': 0,\n",
       " '00/nm0004800_rm3145638656_1976-8-9_2005.jpg': 0,\n",
       " '00/nm0004800_rm3186080256_1976-8-9_2005.jpg': 0,\n",
       " '00/nm0004800_rm3272590336_1976-8-9_2005.jpg': 0,\n",
       " '00/nm0004800_rm3337673728_1976-8-9_2005.jpg': 0,\n",
       " '00/nm0004800_rm3641678336_1976-8-9_2001.jpg': 0,\n",
       " '00/nm0005000_rm1475868416_1968-5-12_2015.jpg': 1,\n",
       " '00/nm0005000_rm2252315136_1968-5-12_2006.jpg': 1,\n",
       " '00/nm0005000_rm3336804352_1968-5-12_2006.jpg': 1,\n",
       " '00/nm0005000_rm3470757120_1968-5-12_2010.jpg': 1,\n",
       " '00/nm0005000_rm3826759168_1968-5-12_2012.jpg': 1,\n",
       " '00/nm0005300_rm1856739584_1968-7-7_2006.jpg': 1,\n",
       " '00/nm0005500_rm3381251584_1947-9-27_1981.jpg': 0,\n",
       " '00/nm0029400_rm111917568_1987-12-3_2010.jpg': 1,\n",
       " '00/nm0029400_rm1177467648_1987-12-3_2010.jpg': 1,\n",
       " '00/nm0029400_rm1689164544_1987-12-3_2004.jpg': 1,\n",
       " '00/nm0029400_rm1758108416_1987-12-3_2005.jpg': 1,\n",
       " '00/nm0029400_rm2009766656_1987-12-3_2005.jpg': 1,\n",
       " '00/nm0029400_rm2202991104_1987-12-3_2013.jpg': 1,\n",
       " '00/nm0029400_rm3311384576_1987-12-3_2008.jpg': 1,\n",
       " '00/nm0029400_rm360230912_1987-12-3_2011.jpg': 1,\n",
       " '00/nm0029400_rm3908933632_1987-12-3_2007.jpg': 1,\n",
       " '00/nm0029400_rm4160591872_1987-12-3_2007.jpg': 1,\n",
       " '00/nm0029400_rm426228736_1987-12-3_2011.jpg': 1,\n",
       " '00/nm0029400_rm59940864_1987-12-3_2013.jpg': 0,\n",
       " '00/nm0029400_rm697083392_1987-12-3_2013.jpg': 1,\n",
       " '00/nm0063800_rm1044219904_1978-8-20_2008.jpg': 1,\n",
       " '00/nm0063800_rm1469895424_1978-8-20_2010.jpg': 1,\n",
       " '00/nm0063800_rm1704636160_1978-8-20_2010.jpg': 0,\n",
       " '00/nm0063800_rm2125574144_1978-8-20_2011.jpg': 1,\n",
       " '00/nm0063800_rm2409430784_1978-8-20_2015.jpg': 1,\n",
       " '00/nm0063800_rm2586871040_1978-8-20_2010.jpg': 1,\n",
       " '00/nm0063800_rm2812072704_1978-8-20_2010.jpg': 0,\n",
       " '00/nm0063800_rm3199903232_1978-8-20_2010.jpg': 1,\n",
       " '00/nm0063800_rm3878716672_1978-8-20_2010.jpg': 1,\n",
       " '00/nm0063800_rm761444096_1978-8-20_2011.jpg': 0,\n",
       " '00/nm0072600_rm268291840_1977-4-3_2014.jpg': 0,\n",
       " '00/nm0072600_rm3011377664_1977-4-3_2014.jpg': 1,\n",
       " '00/nm0078800_rm1976732928_1967-9-22_2007.jpg': 1,\n",
       " '00/nm0078800_rm4140928256_1967-9-22_2007.jpg': 1,\n",
       " '00/nm0085400_rm708744960_1948-8-30_2008.jpg': 1,\n",
       " '00/nm0085400_rm734500864_1948-8-30_2006.jpg': 1,\n",
       " '00/nm0085400_rm742299392_1948-8-30_2008.jpg': 1,\n",
       " '00/nm0086000_rm3414806016_1941-5-10_1981.jpg': 1,\n",
       " '00/nm0086000_rm4271294720_1941-5-10_1981.jpg': 1,\n",
       " '00/nm0112400_rm127315200_1963-0-0_2012.jpg': 1,\n",
       " '00/nm0112400_rm1810616320_1963-0-0_2013.jpg': 1,\n",
       " '00/nm0112400_rm3343100160_1963-0-0_2012.jpg': 1,\n",
       " '00/nm0112400_rm3448219904_1963-0-0_2012.jpg': 1,\n",
       " '00/nm0112400_rm3948850176_1963-0-0_2012.jpg': 1,\n",
       " '00/nm0121400_rm1886963712_1943-5-24_1977.jpg': 1,\n",
       " '00/nm0121400_rm2388105472_1943-5-24_1972.jpg': 1,\n",
       " '00/nm0132300_rm3754081280_1972-12-7_2011.jpg': 0,\n",
       " '00/nm0132300_rm3922171904_1972-12-7_2005.jpg': 0,\n",
       " '00/nm0132300_rm922589952_1972-12-7_2001.jpg': 0,\n",
       " '00/nm0142000_rm3901209344_1961-1-2_2010.jpg': 0,\n",
       " '00/nm0175200_rm562089472_1921-4-10_1973.jpg': 1,\n",
       " '00/nm0175700_rm4069968128_1925-10-16_1981.jpg': 0,\n",
       " '00/nm0175700_rm4271294720_1925-10-16_1981.jpg': 1,\n",
       " '00/nm0189200_rm1149606144_1986-5-28_2006.jpg': 1,\n",
       " '00/nm0189200_rm3728518912_1986-5-28_2012.jpg': 1,\n",
       " '00/nm0189200_rm76056576_1986-5-28_2009.jpg': 1,\n",
       " '00/nm0189200_rm925416704_1986-5-28_2011.jpg': 1,\n",
       " '00/nm0194900_rm1156418304_1980-4-17_2009.jpg': 0,\n",
       " '00/nm0194900_rm1191231232_1980-4-17_2011.jpg': 1,\n",
       " '00/nm0194900_rm2488260608_1980-4-17_2013.jpg': 1,\n",
       " '00/nm0194900_rm253410560_1980-4-17_2011.jpg': 1,\n",
       " '00/nm0194900_rm2630940672_1980-4-17_2014.jpg': 1,\n",
       " '00/nm0194900_rm2647717888_1980-4-17_2014.jpg': 1,\n",
       " '00/nm0194900_rm2875191808_1980-4-17_2014.jpg': 1,\n",
       " '00/nm0194900_rm2891969024_1980-4-17_2014.jpg': 1,\n",
       " '00/nm0194900_rm3117202432_1980-4-17_2011.jpg': 1,\n",
       " '00/nm0194900_rm3421166848_1980-4-17_2013.jpg': 1,\n",
       " '00/nm0194900_rm4251026688_1980-4-17_2011.jpg': 1,\n",
       " '00/nm0194900_rm518685696_1980-4-17_2011.jpg': 1,\n",
       " '00/nm0201700_rm3017509120_1938-10-1_2009.jpg': 0,\n",
       " '00/nm0232800_rm4082212096_1928-10-29_2005.jpg': 1,\n",
       " '00/nm0280600_rm1367667968_1941-9-23_2015.jpg': 0,\n",
       " '00/nm0280600_rm3179607296_1941-9-23_2015.jpg': 0,\n",
       " '00/nm0289200_rm1745469184_1996-7-23_2011.jpg': 0,\n",
       " '00/nm0289200_rm296139264_1996-7-23_2011.jpg': 0,\n",
       " '00/nm0289200_rm4085617664_1996-7-23_2008.jpg': 0,\n",
       " '00/nm0289200_rm563198464_1996-7-23_2011.jpg': 0,\n",
       " '00/nm0304000_rm2870196992_1940-4-20_1992.jpg': 1,\n",
       " '00/nm0304000_rm3945642752_1940-4-20_1995.jpg': 1,\n",
       " '00/nm0331600_rm2598419712_1966-7-20_2011.jpg': 1,\n",
       " '00/nm0348800_rm761174016_1961-11-4_2006.jpg': 1,\n",
       " '00/nm0365300_rm160406272_1973-11-27_2007.jpg': 0,\n",
       " '00/nm0365300_rm2433915392_1973-11-27_2005.jpg': 0,\n",
       " '00/nm0365300_rm2450692608_1973-11-27_2005.jpg': 0,\n",
       " '00/nm0365300_rm2801702912_1973-11-27_2007.jpg': 0,\n",
       " '00/nm0365300_rm333486848_1973-11-27_2006.jpg': 0,\n",
       " '00/nm0365300_rm608934656_1973-11-27_2006.jpg': 0,\n",
       " '00/nm0365300_rm643929088_1973-11-27_2005.jpg': 0,\n",
       " '00/nm0373100_rm2069923584_1975-10-7_2010.jpg': 1,\n",
       " '00/nm0376200_rm3377179392_1938-2-1_1975.jpg': 1,\n",
       " '00/nm0376200_rm3393956608_1938-2-1_1975.jpg': 0,\n",
       " '00/nm0376200_rm3695946496_1938-2-1_1975.jpg': 1,\n",
       " '00/nm0376200_rm625781504_1938-2-1_1975.jpg': 1,\n",
       " '00/nm0378200_rm1855820800_1972-5-5_2008.jpg': 1,\n",
       " '00/nm0378800_rm1388043776_1932-9-26_2010.jpg': 0,\n",
       " '00/nm0421300_rm3674266624_1935-5-8_1993.jpg': 0,\n",
       " '00/nm0424800_rm1574084864_1954-9-10_2013.jpg': 1,\n",
       " '00/nm0424800_rm4026782208_1954-9-10_2013.jpg': 1,\n",
       " '00/nm0428600_rm3048050176_1964-10-31_2009.jpg': 1,\n",
       " '00/nm0448900_rm1847958272_1962-10-23_2003.jpg': 1,\n",
       " '00/nm0490500_rm2196612864_1964-12-8_2013.jpg': 0,\n",
       " '00/nm0500200_rm1349092864_1982-4-10_2005.jpg': 0,\n",
       " '00/nm0500200_rm1494388480_1982-4-10_2005.jpg': 0,\n",
       " '00/nm0500200_rm173322752_1982-4-10_2005.jpg': 0,\n",
       " '00/nm0500200_rm2617087232_1982-4-10_2005.jpg': 0,\n",
       " '00/nm0500200_rm2629994496_1982-4-10_2005.jpg': 0,\n",
       " '00/nm0500200_rm2646771712_1982-4-10_2005.jpg': 0,\n",
       " '00/nm0500200_rm2671554816_1982-4-10_2005.jpg': 1,\n",
       " '00/nm0500200_rm2724247552_1982-4-10_2010.jpg': 0,\n",
       " '00/nm0500200_rm3411851008_1982-4-10_2005.jpg': 1,\n",
       " '00/nm0500200_rm3472406016_1982-4-10_2007.jpg': 0,\n",
       " '00/nm0500200_rm3623400960_1982-4-10_2007.jpg': 0,\n",
       " '00/nm0500200_rm3690509824_1982-4-10_2005.jpg': 0,\n",
       " '00/nm0500200_rm4095266048_1982-4-10_2014.jpg': 1,\n",
       " '00/nm0500200_rm750884096_1982-4-10_2005.jpg': 0,\n",
       " '00/nm0500200_rm823310336_1982-4-10_2005.jpg': 0,\n",
       " '00/nm0500200_rm998870528_1982-4-10_2005.jpg': 0,\n",
       " '00/nm0504300_rm4140341248_1969-9-16_2001.jpg': 0,\n",
       " '00/nm0532900_rm3441202944_1984-10-11_2008.jpg': 0,\n",
       " '00/nm0547700_rm1036169216_1967-5-14_2011.jpg': 0,\n",
       " '00/nm0547800_rm128360960_1968-12-19_2013.jpg': 1,\n",
       " '00/nm0547800_rm3018241536_1968-12-19_2012.jpg': 0,\n",
       " '00/nm0547800_rm3247475456_1968-12-19_2009.jpg': 1,\n",
       " '00/nm0547800_rm3448802048_1968-12-19_2009.jpg': 1,\n",
       " '00/nm0547800_rm3637894656_1968-12-19_2013.jpg': 1,\n",
       " '00/nm0547800_rm3789475584_1968-12-19_2014.jpg': 0,\n",
       " '00/nm0547800_rm4197026560_1968-12-19_2009.jpg': 1,\n",
       " '00/nm0568400_rm793556992_1948-0-0_2011.jpg': 1,\n",
       " '00/nm0569000_rm3680880640_1922-5-7_1974.jpg': 1,\n",
       " '00/nm0569000_rm644270080_1922-5-7_1974.jpg': 0,\n",
       " '00/nm0583600_rm1718783488_1949-12-8_2009.jpg': 0,\n",
       " '00/nm0583600_rm3055131136_1949-12-8_2000.jpg': 0,\n",
       " '00/nm0583600_rm3952187648_1949-12-8_2003.jpg': 0,\n",
       " '00/nm0583600_rm3968964864_1949-12-8_2003.jpg': 0,\n",
       " '00/nm0583600_rm978295040_1949-12-8_2006.jpg': 0,\n",
       " '00/nm0587900_rm1824446720_1923-4-12_2013.jpg': 0,\n",
       " '00/nm0600800_rm2604260608_1949-10-6_2013.jpg': 0,\n",
       " '00/nm0606700_rm1136761600_1969-1-28_2005.jpg': 0,\n",
       " '00/nm0606700_rm1206487296_1969-1-28_2009.jpg': 0,\n",
       " '00/nm0606700_rm1298315264_1969-1-28_2011.jpg': 0,\n",
       " '00/nm0606700_rm2294384640_1969-1-28_2009.jpg': 0,\n",
       " '00/nm0606700_rm2314115072_1969-1-28_2003.jpg': 0,\n",
       " '00/nm0606700_rm3884768512_1969-1-28_2011.jpg': 1,\n",
       " '00/nm0606700_rm462001920_1969-1-28_2003.jpg': 0,\n",
       " '00/nm0606700_rm7707136_1969-1-28_2002.jpg': 0,\n",
       " '00/nm0619600_rm311794176_1938-12-24_2005.jpg': 1,\n",
       " '00/nm0624900_rm1855771648_1991-9-19_2012.jpg': 1,\n",
       " '00/nm0624900_rm3466253312_1991-9-19_2006.jpg': 1,\n",
       " '00/nm0634300_rm3593121792_1976-6-6_2011.jpg': 1,\n",
       " '00/nm0639200_rm2187892992_1964-8-11_2002.jpg': 0,\n",
       " '00/nm0639200_rm2238224640_1964-8-11_2002.jpg': 0,\n",
       " '00/nm0639200_rm3600914688_1964-8-11_2007.jpg': 1,\n",
       " '00/nm0673400_rm1924774912_1968-0-0_2011.jpg': 1,\n",
       " '00/nm0673400_rm2878651392_1968-0-0_2011.jpg': 1,\n",
       " '00/nm0682000_rm2979383552_1898-6-1_1979.jpg': 0,\n",
       " '00/nm0684500_rm1516667392_1955-3-4_2009.jpg': 1,\n",
       " '00/nm0684500_rm1600553472_1955-3-4_2009.jpg': 0,\n",
       " '00/nm0684500_rm3036843776_1955-3-4_2009.jpg': 1,\n",
       " '00/nm0691600_rm2550586368_1988-12-16_2013.jpg': 0,\n",
       " '00/nm0691600_rm3135888640_1988-12-16_2013.jpg': 0,\n",
       " '00/nm0691600_rm4024994816_1988-12-16_2005.jpg': 0,\n",
       " '00/nm0694100_rm3924471808_1976-1-19_2008.jpg': 1,\n",
       " '00/nm0701500_rm2709112832_1920-5-11_1979.jpg': 1,\n",
       " '00/nm0701500_rm2742667264_1920-5-11_1979.jpg': 1,\n",
       " '00/nm0725200_rm1162184192_1966-10-28_2010.jpg': 1,\n",
       " '00/nm0725200_rm1174178560_1966-10-28_2007.jpg': 1,\n",
       " '00/nm0725200_rm1369343232_1966-10-28_2002.jpg': 1,\n",
       " '00/nm0725200_rm1386120448_1966-10-28_2002.jpg': 1,\n",
       " '00/nm0725200_rm2255457024_1966-10-28_2009.jpg': 1,\n",
       " '00/nm0725200_rm3412960768_1966-10-28_2003.jpg': 1,\n",
       " '00/nm0725200_rm3966671104_1966-10-28_2004.jpg': 1,\n",
       " '00/nm0725200_rm4264139008_1966-10-28_2007.jpg': 1,\n",
       " '00/nm0725200_rm732928768_1966-10-28_2005.jpg': 1,\n",
       " '00/nm0726200_rm2318370560_1947-4-11_2010.jpg': 1,\n",
       " '00/nm0740400_rm3279264512_1955-4-14_2005.jpg': 1,\n",
       " '00/nm0777300_rm3717377536_1976-8-6_2012.jpg': 1,\n",
       " '00/nm0799900_rm2240083200_1992-7-7_2015.jpg': 0,\n",
       " '00/nm0799900_rm3881150976_1992-7-7_2012.jpg': 0,\n",
       " '00/nm0812200_rm1442093824_1958-0-0_2005.jpg': 1,\n",
       " '00/nm0812200_rm3051994624_1958-0-0_1997.jpg': 1,\n",
       " '00/nm0838000_rm1997781760_1983-10-21_2011.jpg': 0,\n",
       " '00/nm0838000_rm2530722048_1983-10-21_2010.jpg': 0,\n",
       " '00/nm0838000_rm2547499264_1983-10-21_2010.jpg': 0,\n",
       " '00/nm0838000_rm3647323904_1983-10-21_2010.jpg': 0,\n",
       " '00/nm0838000_rm873774080_1983-10-21_2010.jpg': 0,\n",
       " '00/nm0856500_rm680708352_1971-1-17_2013.jpg': 0,\n",
       " '00/nm0866300_rm1311890432_1961-8-4_1994.jpg': 0,\n",
       " '00/nm0866300_rm1478400512_1961-8-4_1996.jpg': 0,\n",
       " '00/nm0866300_rm65908224_1961-8-4_2005.jpg': 0,\n",
       " '00/nm0920800_rm3967010816_1939-11-23_1996.jpg': 0,\n",
       " '00/nm0927600_rm2799405568_1928-9-30_2008.jpg': 1,\n",
       " '00/nm0936300_rm2418724096_1973-2-18_2014.jpg': 1,\n",
       " '00/nm0936300_rm3626431488_1973-2-18_2013.jpg': 1,\n",
       " '00/nm0941000_rm3253517056_1953-4-24_2011.jpg': 1,\n",
       " '00/nm0948000_rm2635779584_1973-4-23_2014.jpg': 0,\n",
       " '00/nm0992000_rm1707728640_1972-11-26_2013.jpg': 1,\n",
       " '00/nm1000000_rm1163262976_1967-1-26_2015.jpg': 1,\n",
       " '00/nm1000000_rm2315516928_1967-1-26_2015.jpg': 0,\n",
       " '00/nm1128600_rm2817389056_1971-3-23_2015.jpg': 0,\n",
       " '00/nm1140300_rm1624419072_1985-9-24_2013.jpg': 0,\n",
       " '00/nm1140300_rm166043904_1985-9-24_2013.jpg': 0,\n",
       " '00/nm1140300_rm1710334464_1985-9-24_2013.jpg': 0,\n",
       " '00/nm1140300_rm2852361216_1985-9-24_2008.jpg': 0,\n",
       " '00/nm1140300_rm2896864000_1985-9-24_2013.jpg': 0,\n",
       " '00/nm1140300_rm3226116352_1985-9-24_2013.jpg': 0,\n",
       " '00/nm1140300_rm3242893568_1985-9-24_2013.jpg': 0,\n",
       " '00/nm1140300_rm3969745920_1985-9-24_2008.jpg': 1,\n",
       " '00/nm1140300_rm3986523136_1985-9-24_2008.jpg': 0,\n",
       " '00/nm1140300_rm4048199936_1985-9-24_2013.jpg': 0,\n",
       " '00/nm1145000_rm3624636160_1978-9-12_2010.jpg': 1,\n",
       " '00/nm1178100_rm357367552_1966-11-2_2007.jpg': 1,\n",
       " '00/nm1178100_rm390921984_1966-11-2_2007.jpg': 1,\n",
       " '00/nm1214700_rm259303936_1984-12-11_2012.jpg': 0,\n",
       " '00/nm1214700_rm3719268608_1984-12-11_2008.jpg': 0,\n",
       " '00/nm1215300_rm289053440_1966-12-20_2003.jpg': 1,\n",
       " '00/nm1317000_rm2190448128_1985-2-5_2008.jpg': 0,\n",
       " '00/nm1317000_rm2303040256_1985-2-5_2005.jpg': 0,\n",
       " '00/nm1317000_rm4030658048_1985-2-5_2015.jpg': 0,\n",
       " '00/nm1369800_rm103403776_1981-10-29_2014.jpg': 1,\n",
       " '00/nm1381100_rm538741248_1976-3-16_2009.jpg': 1,\n",
       " '00/nm1416900_rm1500640256_1985-7-25_2015.jpg': 0,\n",
       " '00/nm1416900_rm1914630144_1985-7-25_2015.jpg': 0,\n",
       " '00/nm1416900_rm2394261760_1985-7-25_2009.jpg': 0,\n",
       " '00/nm1416900_rm3437537024_1985-7-25_2014.jpg': 0,\n",
       " '00/nm1416900_rm376566784_1985-7-25_2015.jpg': 0,\n",
       " '00/nm1416900_rm745582592_1985-7-25_2009.jpg': 1,\n",
       " '00/nm1488800_rm2539227392_1980-10-5_2009.jpg': 1,\n",
       " '00/nm1488800_rm3096894976_1980-10-5_2013.jpg': 1,\n",
       " '00/nm1490300_rm2826937088_1975-11-13_2013.jpg': 0,\n",
       " '00/nm1490300_rm3086926592_1975-11-13_2013.jpg': 0,\n",
       " '00/nm1490300_rm4137518592_1975-11-13_2010.jpg': 1,\n",
       " '00/nm1544100_rm1285858304_1997-5-5_2013.jpg': 0,\n",
       " '00/nm1544100_rm1890761216_1997-5-5_2007.jpg': 1,\n",
       " '00/nm1546300_rm1111996928_1990-11-29_2011.jpg': 1,\n",
       " '00/nm1546300_rm2974201088_1990-11-29_2012.jpg': 0,\n",
       " '00/nm1546300_rm2990978304_1990-11-29_2012.jpg': 1,\n",
       " '00/nm1546300_rm3511072000_1990-11-29_2012.jpg': 1,\n",
       " '00/nm1546300_rm3527849216_1990-11-29_2012.jpg': 0,\n",
       " '00/nm1556400_rm2315644928_1976-2-24_2005.jpg': 0,\n",
       " '00/nm1560300_rm3340409600_1980-12-11_2005.jpg': 1,\n",
       " '00/nm1635000_rm3402822912_1972-12-14_2015.jpg': 0,\n",
       " '00/nm1635000_rm4278842368_1972-12-14_2015.jpg': 0,\n",
       " '00/nm1682400_rm3148516608_1991-9-20_2009.jpg': 0,\n",
       " '00/nm1682400_rm4154363392_1991-9-20_2009.jpg': 0,\n",
       " '00/nm1727100_rm1652278016_1979-1-18_2012.jpg': 1,\n",
       " '00/nm1727100_rm2828632832_1979-1-18_2011.jpg': 1,\n",
       " '00/nm1727100_rm2928116736_1979-1-18_2011.jpg': 1,\n",
       " '00/nm1737500_rm1277532160_1981-3-30_2005.jpg': 0,\n",
       " '00/nm1737500_rm801346816_1981-3-30_2008.jpg': 0,\n",
       " '00/nm1801800_rm1033413888_1983-7-22_2011.jpg': 0,\n",
       " '00/nm1801800_rm1558895360_1983-7-22_2011.jpg': 0,\n",
       " '00/nm1801800_rm2951404288_1983-7-22_2011.jpg': 0,\n",
       " '00/nm1801800_rm3539972864_1983-7-22_2011.jpg': 0,\n",
       " '00/nm1801800_rm3694637568_1983-7-22_2011.jpg': 0,\n",
       " '00/nm1801800_rm961401856_1983-7-22_2013.jpg': 0,\n",
       " '00/nm1835900_rm1790624256_1978-6-27_2014.jpg': 0,\n",
       " '00/nm1835900_rm2441907712_1978-6-27_2006.jpg': 0,\n",
       " '00/nm1956600_rm2159529728_1980-12-25_2014.jpg': 0,\n",
       " '00/nm1956600_rm2209861376_1980-12-25_2014.jpg': 0,\n",
       " '00/nm1956600_rm2411187968_1980-12-25_2014.jpg': 0,\n",
       " '00/nm1956600_rm2861158144_1980-12-25_2014.jpg': 0,\n",
       " '00/nm2003700_rm100790784_1985-7-18_2015.jpg': 1,\n",
       " '00/nm2003700_rm1367389440_1985-7-18_2012.jpg': 1,\n",
       " '00/nm2003700_rm1508022016_1985-7-18_2007.jpg': 1,\n",
       " '00/nm2003700_rm1541576448_1985-7-18_2007.jpg': 1,\n",
       " '00/nm2003700_rm1551938816_1985-7-18_2012.jpg': 1,\n",
       " '00/nm2003700_rm1680978432_1985-7-18_2007.jpg': 0,\n",
       " '00/nm2003700_rm1944890880_1985-7-18_2007.jpg': 1,\n",
       " '00/nm2003700_rm2245690368_1985-7-18_2010.jpg': 1,\n",
       " '00/nm2003700_rm2279244800_1985-7-18_2010.jpg': 1,\n",
       " '00/nm2003700_rm2398653440_1985-7-18_2007.jpg': 1,\n",
       " '00/nm2003700_rm2635837696_1985-7-18_2007.jpg': 0,\n",
       " '00/nm2003700_rm2651750400_1985-7-18_2009.jpg': 1,\n",
       " '00/nm2003700_rm2704389376_1985-7-18_2011.jpg': 1,\n",
       " '00/nm2003700_rm296859648_1985-7-18_2008.jpg': 1,\n",
       " '00/nm2003700_rm3104673536_1985-7-18_2010.jpg': 1,\n",
       " '00/nm2003700_rm3151660032_1985-7-18_2010.jpg': 1,\n",
       " '00/nm2003700_rm3480458752_1985-7-18_2007.jpg': 1,\n",
       " '00/nm2003700_rm3730868992_1985-7-18_2007.jpg': 1,\n",
       " '00/nm2003700_rm3776756992_1985-7-18_2007.jpg': 0,\n",
       " '00/nm2003700_rm3919746560_1985-7-18_2008.jpg': 1,\n",
       " '00/nm2003700_rm4011638016_1985-7-18_2007.jpg': 0,\n",
       " '00/nm2003700_rm526627584_1985-7-18_2007.jpg': 1,\n",
       " '00/nm2003700_rm570340096_1985-7-18_2007.jpg': 1,\n",
       " '00/nm2003700_rm918008064_1985-7-18_2007.jpg': 1,\n",
       " '00/nm2296000_rm1067222272_1980-12-18_2011.jpg': 1,\n",
       " '00/nm2296000_rm882672896_1980-12-18_2011.jpg': 1,\n",
       " '00/nm2351500_rm1456915456_1978-10-22_2014.jpg': 1,\n",
       " '00/nm2351500_rm1765259264_1978-10-22_2007.jpg': 0,\n",
       " '00/nm2351500_rm4168452864_1978-10-22_2007.jpg': 0,\n",
       " '00/nm2460100_rm3177701120_1985-5-15_2014.jpg': 1,\n",
       " '00/nm2584600_rm1642506752_1988-7-20_2012.jpg': 0,\n",
       " '00/nm2584600_rm1685623808_1988-7-20_2005.jpg': 0,\n",
       " '00/nm2584600_rm1719178240_1988-7-20_2005.jpg': 1,\n",
       " '00/nm2584600_rm1827056128_1988-7-20_2012.jpg': 0,\n",
       " '00/nm2584600_rm2318522624_1988-7-20_2013.jpg': 0,\n",
       " '00/nm2584600_rm2461506304_1988-7-20_2007.jpg': 0,\n",
       " '00/nm2584600_rm2503072000_1988-7-20_2013.jpg': 0,\n",
       " '00/nm2584600_rm3104736768_1988-7-20_2010.jpg': 0,\n",
       " '00/nm2584600_rm3141973248_1988-7-20_2012.jpg': 0,\n",
       " '00/nm2584600_rm3175527680_1988-7-20_2012.jpg': 0,\n",
       " '00/nm2584600_rm31824128_1988-7-20_2005.jpg': 1,\n",
       " '00/nm2584600_rm3482886656_1988-7-20_2013.jpg': 0,\n",
       " '00/nm2584600_rm3994460672_1988-7-20_2013.jpg': 0,\n",
       " '00/nm2584600_rm4011237888_1988-7-20_2013.jpg': 0,\n",
       " '00/nm2584600_rm4244828672_1988-7-20_2015.jpg': 0,\n",
       " '00/nm2584600_rm562019584_1988-7-20_2011.jpg': 0,\n",
       " '00/nm2584600_rm822211072_1988-7-20_2015.jpg': 0,\n",
       " '00/nm2650700_rm2386613504_1983-6-14_2013.jpg': 1,\n",
       " '00/nm3129800_rm2958854400_1994-3-0_2009.jpg': 1,\n",
       " '00/nm3129800_rm3377367296_1994-3-0_2009.jpg': 1,\n",
       " '00/nm3236300_rm1741223168_1986-7-20_2015.jpg': 0,\n",
       " '00/nm3236300_rm1802630400_1986-7-20_2015.jpg': 0,\n",
       " '00/nm3236300_rm2933585152_1986-7-20_2013.jpg': 0,\n",
       " '00/nm3236300_rm3185243392_1986-7-20_2013.jpg': 0,\n",
       " '00/nm3256000_rm703630080_1985-9-29_2000.jpg': 1,\n",
       " '00/nm4415900_rm1727778560_1993-9-9_2012.jpg': 1,\n",
       " '00/nm4415900_rm1811664640_1993-9-9_2012.jpg': 1,\n",
       " '01/nm0000201_rm2177865984_1958-4-29_1983.jpg': 0,\n",
       " '01/nm0000301_rm1528616448_1982-3-11_1991.jpg': 0,\n",
       " '01/nm0000701_rm1215025408_1975-10-5_2013.jpg': 0,\n",
       " '01/nm0000701_rm1776257536_1975-10-5_2008.jpg': 0,\n",
       " '01/nm0000701_rm3738949120_1975-10-5_2013.jpg': 0,\n",
       " '01/nm0000701_rm4041051136_1975-10-5_2006.jpg': 0,\n",
       " '01/nm0000901_rm1972222208_1933-4-9_2011.jpg': 1,\n",
       " '01/nm0000901_rm3469342464_1933-4-9_1969.jpg': 1,\n",
       " '01/nm0001001_rm2687545344_1940-3-26_1973.jpg': 1,\n",
       " '01/nm0001101_rm2620632576_1947-12-29_2000.jpg': 1,\n",
       " '01/nm0001101_rm46372096_1947-12-29_2008.jpg': 1,\n",
       " '01/nm0001201_rm2838016256_1945-2-9_1974.jpg': 0,\n",
       " '01/nm0001401_rm1670748928_1975-6-4_2003.jpg': 0,\n",
       " '01/nm0001401_rm374929408_1975-6-4_2014.jpg': 0,\n",
       " '01/nm0001401_rm510170624_1975-6-4_2008.jpg': 0,\n",
       " '01/nm0005101_rm998612992_1973-1-4_2012.jpg': 0,\n",
       " '01/nm0165101_rm2837101824_1959-12-29_2011.jpg': 0,\n",
       " '01/nm0272401_rm232381184_1962-5-17_2005.jpg': 1,\n",
       " '01/nm0272401_rm3519453184_1962-5-17_2006.jpg': 1,\n",
       " '01/nm0304801_rm3203635456_1982-8-6_2006.jpg': 0,\n",
       " '01/nm0306201_rm951562496_1973-4-28_2012.jpg': 0,\n",
       " '01/nm0628601_rm3807610624_1972-11-6_2010.jpg': 0,\n",
       " '01/nm0743501_rm1703014400_1965-9-13_2015.jpg': 1,\n",
       " '01/nm0787601_rm1726650368_1963-2-5_2002.jpg': 1,\n",
       " '01/nm1107001_rm2198247936_1978-9-23_2004.jpg': 1,\n",
       " '01/nm1172901_rm674011648_1984-3-8_2005.jpg': 0,\n",
       " '01/nm1377001_rm236239616_1980-12-22_2003.jpg': 0,\n",
       " '01/nm1627901_rm726775808_1976-6-18_2011.jpg': 1,\n",
       " '01/nm1635501_rm3845884160_1983-4-15_2009.jpg': 1,\n",
       " '01/nm3284401_rm2172502272_1991-7-8_2014.jpg': 1,\n",
       " '01/nm3284401_rm3559440384_1991-7-8_2014.jpg': 1,\n",
       " '01/nm3595501_rm2122444800_1994-3-1_2015.jpg': 1,\n",
       " '02/nm0000102_rm16556800_1958-7-8_2013.jpg': 1,\n",
       " '02/nm0000202_rm216171776_1974-9-10_1998.jpg': 1,\n",
       " '02/nm0000602_rm4000753408_1936-8-18_2013.jpg': 1,\n",
       " '02/nm0000702_rm1427020544_1976-3-22_2006.jpg': 0,\n",
       " '02/nm0000702_rm2959115264_1976-3-22_2010.jpg': 0,\n",
       " '02/nm0000702_rm3663108864_1976-3-22_2005.jpg': 0,\n",
       " '02/nm0000902_rm3112797952_1954-6-15_2010.jpg': 1,\n",
       " '02/nm0001602_rm1655088640_1967-10-5_2013.jpg': 1,\n",
       " '02/nm0001602_rm1818204416_1967-10-5_2008.jpg': 1,\n",
       " '02/nm0001602_rm1958839552_1967-10-5_2011.jpg': 1,\n",
       " '02/nm0004802_rm3804355840_1975-6-25_1999.jpg': 0,\n",
       " '02/nm0005502_rm446409984_1985-10-11_2005.jpg': 0,\n",
       " '02/nm0082802_rm2114558464_1958-0-0_2005.jpg': 1,\n",
       " '02/nm0082802_rm52803840_1958-0-0_2000.jpg': 0,\n",
       " '02/nm0130502_rm1226868992_1946-0-0_2008.jpg': 1,\n",
       " '02/nm0491402_rm3252524288_1959-6-11_2004.jpg': 1,\n",
       " '02/nm0491402_rm3804083200_1959-6-11_2004.jpg': 1,\n",
       " '02/nm0535502_rm3010906112_1978-6-19_2001.jpg': 0,\n",
       " '02/nm0535502_rm3326188032_1978-6-19_2006.jpg': 0,\n",
       " '02/nm0564402_rm1905236224_1957-8-25_2004.jpg': 1,\n",
       " '02/nm0865302_rm2848766976_1954-12-4_2011.jpg': 1,\n",
       " '02/nm1134702_rm3908144128_1998-7-24_2010.jpg': 0,\n",
       " '02/nm1256602_rm211809024_1991-11-13_2014.jpg': 1,\n",
       " '02/nm1741002_rm1741720832_1982-10-28_2005.jpg': 1,\n",
       " '02/nm1741002_rm1910099712_1982-10-28_2014.jpg': 0,\n",
       " '02/nm1741002_rm372292096_1982-10-28_2005.jpg': 1,\n",
       " '02/nm1886602_rm327787264_1987-2-20_2013.jpg': 1,\n",
       " '02/nm1886602_rm3641036800_1987-2-20_2014.jpg': 1,\n",
       " '02/nm1886602_rm4230855936_1987-2-20_2011.jpg': 1,\n",
       " '02/nm2624602_rm341498112_1999-5-28_2012.jpg': 1,\n",
       " '02/nm2966102_rm3558714880_1979-5-19_2012.jpg': 1,\n",
       " '03/nm0000203_rm2054796800_1970-8-23_1986.jpg': 1,\n",
       " '03/nm0000403_rm801478656_1964-1-27_1999.jpg': 0,\n",
       " '03/nm0001103_rm4034709504_1951-4-21_1984.jpg': 0,\n",
       " '03/nm0001303_rm1058009088_1971-8-29_2015.jpg': 0,\n",
       " '03/nm0001303_rm1806735360_1971-8-29_2005.jpg': 0,\n",
       " '03/nm0001303_rm533117696_1971-8-29_2010.jpg': 0,\n",
       " '03/nm0001303_rm667990784_1971-8-29_2011.jpg': 0,\n",
       " '03/nm0001803_rm1321051648_1944-5-16_2013.jpg': 1,\n",
       " '03/nm0001803_rm3684162048_1944-5-16_2013.jpg': 1,\n",
       " '03/nm0002003_rm2860435456_1968-1-16_1989.jpg': 0,\n",
       " '03/nm0005203_rm1458015488_1969-2-8_2010.jpg': 0,\n",
       " '03/nm0005203_rm3463351296_1969-2-8_2008.jpg': 0,\n",
       " '03/nm0005403_rm3767463936_1980-6-26_2015.jpg': 1,\n",
       " '03/nm0005403_rm46894592_1980-6-26_2009.jpg': 1,\n",
       " '03/nm0174403_rm1288291840_1983-1-4_2014.jpg': 0,\n",
       " '03/nm0224703_rm894169088_1967-7-20_2015.jpg': 0,\n",
       " '03/nm0227003_rm2604710144_1963-5-31_2008.jpg': 1,\n",
       " '03/nm0295103_rm3764894464_1969-3-16_2006.jpg': 1,\n",
       " '03/nm0356003_rm2042272000_1976-2-8_2006.jpg': 1,\n",
       " '03/nm0356003_rm923833856_1976-2-8_2006.jpg': 1,\n",
       " '03/nm0405103_rm2396901120_1990-11-24_2009.jpg': 1,\n",
       " '03/nm0696303_rm1166002176_1939-7-10_1989.jpg': 0,\n",
       " '03/nm0734203_rm1673828352_1974-6-30_2007.jpg': 1,\n",
       " '03/nm0855103_rm3309024000_1961-12-16_2011.jpg': 0,\n",
       " '03/nm0881703_rm752059392_1957-2-17_2010.jpg': 1,\n",
       " '03/nm0922903_rm2498821120_1966-3-4_2014.jpg': 1,\n",
       " '03/nm0956603_rm3289948672_1970-10-11_2005.jpg': 0,\n",
       " '03/nm1013003_rm2638337792_1973-8-3_2013.jpg': 0,\n",
       " '03/nm1035503_rm1576524544_1978-5-23_2013.jpg': 1,\n",
       " '03/nm1674903_rm1981851904_1978-9-28_2010.jpg': 1,\n",
       " '03/nm2088803_rm2300612096_1982-7-30_2007.jpg': 0,\n",
       " '04/nm0000004_rm3346248448_1949-1-24_1981.jpg': 0,\n",
       " '04/nm0000004_rm4168332032_1949-1-24_1981.jpg': 0,\n",
       " '04/nm0000104_rm2170135040_1960-8-10_2011.jpg': 1,\n",
       " '04/nm0000104_rm2206183424_1960-8-10_2002.jpg': 0,\n",
       " '04/nm0000104_rm2478540800_1960-8-10_2009.jpg': 1,\n",
       " '04/nm0000104_rm3828581376_1960-8-10_1995.jpg': 1,\n",
       " '04/nm0000204_rm2022808320_1981-6-9_2007.jpg': 0,\n",
       " '04/nm0000204_rm297573120_1981-6-9_2004.jpg': 0,\n",
       " '04/nm0000204_rm398236416_1981-6-9_2004.jpg': 0,\n",
       " '04/nm0000404_rm2872161536_1937-12-21_2011.jpg': 0,\n",
       " '04/nm0000704_rm3243621888_1981-1-28_2011.jpg': 1,\n",
       " '04/nm0000704_rm3257660672_1981-1-28_2014.jpg': 1,\n",
       " '04/nm0000704_rm3506488320_1981-1-28_2014.jpg': 1,\n",
       " '04/nm0000804_rm3641017344_1932-11-8_1987.jpg': 0,\n",
       " '04/nm0001004_rm4014651392_1959-7-7_2011.jpg': 1,\n",
       " '04/nm0001004_rm4236888832_1959-7-7_2014.jpg': 1,\n",
       " '04/nm0001004_rm436327680_1959-7-7_2014.jpg': 1,\n",
       " '04/nm0001804_rm3492518400_1960-11-11_2006.jpg': 1,\n",
       " '04/nm0005004_rm1439275776_1958-3-4_2005.jpg': 0,\n",
       " '04/nm0005004_rm2891812096_1958-3-4_2009.jpg': 1,\n",
       " '04/nm0005004_rm4213429504_1958-3-4_2014.jpg': 1,\n",
       " '04/nm0126004_rm3405677824_1985-11-20_2009.jpg': 0,\n",
       " '04/nm0160004_rm3706368_1965-8-10_1993.jpg': 0,\n",
       " '04/nm0185404_rm1886628864_1972-2-27_2012.jpg': 1,\n",
       " '04/nm0201304_rm3389241088_1961-5-19_2012.jpg': 1,\n",
       " '04/nm0278304_rm875424256_1979-8-22_2014.jpg': 0,\n",
       " '04/nm0339004_rm2087554304_1972-2-5_2004.jpg': 1,\n",
       " '04/nm0339304_rm1260170752_1956-8-12_2012.jpg': 1,\n",
       " '04/nm0339304_rm2396304896_1956-8-12_2012.jpg': 1,\n",
       " '04/nm0633604_rm3389372160_1948-8-20_2008.jpg': 1,\n",
       " '04/nm0633604_rm4037383168_1948-8-20_2008.jpg': 1,\n",
       " '04/nm0633604_rm849652480_1948-8-20_2008.jpg': 1,\n",
       " '04/nm0662504_rm3752311040_1972-6-30_2010.jpg': 0,\n",
       " '04/nm0870204_rm3780744704_1972-12-15_2008.jpg': 1,\n",
       " '04/nm0931404_rm1988602112_1968-7-26_2012.jpg': 0,\n",
       " '04/nm0931404_rm4191270912_1968-7-26_2009.jpg': 0,\n",
       " '04/nm0942504_rm2765138176_1972-0-0_2012.jpg': 1,\n",
       " '04/nm0943104_rm244178176_1974-4-3_2008.jpg': 0,\n",
       " '04/nm1083404_rm2216801792_1980-1-10_2011.jpg': 0,\n",
       " '04/nm1727304_rm1836090368_1983-5-12_2010.jpg': 0,\n",
       " '04/nm2218604_rm3490639872_1987-12-4_2014.jpg': 0,\n",
       " '04/nm3650004_rm3946951168_1992-9-9_2009.jpg': 1,\n",
       " '05/nm0000205_rm2305136896_1968-11-8_2006.jpg': 0,\n",
       " '05/nm0000205_rm496482304_1968-11-8_2000.jpg': 0,\n",
       " '05/nm0000405_rm4067526912_1965-1-8_2009.jpg': 0,\n",
       " '05/nm0000405_rm4236951040_1965-1-8_2011.jpg': 0,\n",
       " '05/nm0000705_rm2061343488_1966-4-8_2007.jpg': 0,\n",
       " '05/nm0001505_rm2152106240_1947-11-13_2005.jpg': 0,\n",
       " '05/nm0001705_rm152148736_1963-10-31_1999.jpg': 1,\n",
       " '05/nm0005005_rm4290288384_1926-4-9_2005.jpg': 1,\n",
       " '05/nm0005305_rm381255936_1976-10-31_2010.jpg': 0,\n",
       " '05/nm0005305_rm493780992_1976-10-31_2010.jpg': 0,\n",
       " '05/nm0005305_rm653508096_1976-10-31_2010.jpg': 0,\n",
       " '05/nm0121605_rm4208439040_1966-11-25_2012.jpg': 0,\n",
       " '05/nm0175305_rm2472331520_1974-3-5_2014.jpg': 0,\n",
       " '05/nm0186505_rm3963607552_1956-3-7_2008.jpg': 1,\n",
       " '05/nm0192505_rm2117053696_1985-11-30_2013.jpg': 1,\n",
       " '05/nm0192505_rm3160124672_1985-11-30_2013.jpg': 0,\n",
       " '05/nm0192505_rm3245184000_1985-11-30_2007.jpg': 0,\n",
       " '05/nm0192505_rm770618880_1985-11-30_2007.jpg': 0,\n",
       " '05/nm0200005_rm144422144_1959-12-24_2012.jpg': 1,\n",
       " '05/nm0200005_rm3496118528_1959-12-24_2009.jpg': 1,\n",
       " '05/nm0291205_rm3150948352_1959-4-2_2012.jpg': 0,\n",
       " '05/nm0425005_rm1268164352_1972-5-2_2013.jpg': 0,\n",
       " '05/nm0425005_rm1284941568_1972-5-2_2013.jpg': 1,\n",
       " '05/nm0425005_rm1678950912_1972-5-2_2014.jpg': 1,\n",
       " '05/nm0425005_rm3747592960_1972-5-2_2004.jpg': 1,\n",
       " '05/nm0589505_rm399414272_1972-6-2_2005.jpg': 1,\n",
       " '05/nm1183205_rm4200647168_1958-10-5_2014.jpg': 1,\n",
       " '05/nm1214605_rm43045888_1978-4-28_2013.jpg': 1,\n",
       " '05/nm1959505_rm70890240_1978-6-14_2011.jpg': 0,\n",
       " '05/nm2425105_rm1424657664_1998-12-15_2009.jpg': 1,\n",
       " '05/nm2439805_rm1596640512_1977-11-2_2009.jpg': 0,\n",
       " '05/nm4204205_rm823964160_1991-4-17_2011.jpg': 0,\n",
       " '05/nm4234505_rm3249767680_1987-1-12_2009.jpg': 0}"
      ]
     },
     "execution_count": 4,
     "metadata": {},
     "output_type": "execute_result"
    }
   ],
   "source": [
    "data_dict"
   ]
  },
  {
   "cell_type": "code",
   "execution_count": null,
   "metadata": {},
   "outputs": [],
   "source": []
  }
 ],
 "metadata": {
  "kernelspec": {
   "display_name": "Python 3",
   "language": "python",
   "name": "python3"
  },
  "language_info": {
   "codemirror_mode": {
    "name": "ipython",
    "version": 3
   },
   "file_extension": ".py",
   "mimetype": "text/x-python",
   "name": "python",
   "nbconvert_exporter": "python",
   "pygments_lexer": "ipython3",
   "version": "3.6.1"
  },
  "latex_envs": {
   "LaTeX_envs_menu_present": true,
   "autoclose": false,
   "autocomplete": true,
   "bibliofile": "biblio.bib",
   "cite_by": "apalike",
   "current_citInitial": 1,
   "eqLabelWithNumbers": true,
   "eqNumInitial": 1,
   "hotkeys": {
    "equation": "Ctrl-E",
    "itemize": "Ctrl-I"
   },
   "labels_anchors": false,
   "latex_user_defs": false,
   "report_style_numbering": false,
   "user_envs_cfg": false
  },
  "varInspector": {
   "cols": {
    "lenName": 16,
    "lenType": 16,
    "lenVar": 40
   },
   "kernels_config": {
    "python": {
     "delete_cmd_postfix": "",
     "delete_cmd_prefix": "del ",
     "library": "var_list.py",
     "varRefreshCmd": "print(var_dic_list())"
    },
    "r": {
     "delete_cmd_postfix": ") ",
     "delete_cmd_prefix": "rm(",
     "library": "var_list.r",
     "varRefreshCmd": "cat(var_dic_list()) "
    }
   },
   "types_to_exclude": [
    "module",
    "function",
    "builtin_function_or_method",
    "instance",
    "_Feature"
   ],
   "window_display": false
  }
 },
 "nbformat": 4,
 "nbformat_minor": 2
}
